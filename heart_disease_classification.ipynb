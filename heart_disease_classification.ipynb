{
 "cells": [
  {
   "cell_type": "markdown",
   "metadata": {},
   "source": [
    "# Heart Disease Classification - Toby Liang"
   ]
  },
  {
   "cell_type": "markdown",
   "metadata": {},
   "source": [
    "## Importing Essential Libraries"
   ]
  },
  {
   "cell_type": "code",
   "execution_count": 1,
   "metadata": {},
   "outputs": [],
   "source": [
    "import warnings\n",
    "warnings.filterwarnings('ignore')\n",
    "\n",
    "import numpy as np\n",
    "import pandas as pd\n",
    "\n",
    "# Data Visualization libraries\n",
    "import matplotlib.pyplot as plt\n",
    "import seaborn as sns"
   ]
  },
  {
   "cell_type": "markdown",
   "metadata": {},
   "source": [
    "## Loading Data and Data Summary"
   ]
  },
  {
   "cell_type": "code",
   "execution_count": 2,
   "metadata": {},
   "outputs": [],
   "source": [
    "dataset = pd.read_csv(\"./data/heart_disease.csv\")"
   ]
  },
  {
   "cell_type": "code",
   "execution_count": 3,
   "metadata": {},
   "outputs": [
    {
     "data": {
      "text/html": [
       "<div>\n",
       "<style scoped>\n",
       "    .dataframe tbody tr th:only-of-type {\n",
       "        vertical-align: middle;\n",
       "    }\n",
       "\n",
       "    .dataframe tbody tr th {\n",
       "        vertical-align: top;\n",
       "    }\n",
       "\n",
       "    .dataframe thead th {\n",
       "        text-align: right;\n",
       "    }\n",
       "</style>\n",
       "<table border=\"1\" class=\"dataframe\">\n",
       "  <thead>\n",
       "    <tr style=\"text-align: right;\">\n",
       "      <th></th>\n",
       "      <th>age</th>\n",
       "      <th>sex</th>\n",
       "      <th>cp</th>\n",
       "      <th>trestbps</th>\n",
       "      <th>chol</th>\n",
       "      <th>fbs</th>\n",
       "      <th>restecg</th>\n",
       "      <th>thalach</th>\n",
       "      <th>exang</th>\n",
       "      <th>oldpeak</th>\n",
       "      <th>slope</th>\n",
       "      <th>ca</th>\n",
       "      <th>thal</th>\n",
       "      <th>target</th>\n",
       "    </tr>\n",
       "  </thead>\n",
       "  <tbody>\n",
       "    <tr>\n",
       "      <th>0</th>\n",
       "      <td>63</td>\n",
       "      <td>1</td>\n",
       "      <td>3</td>\n",
       "      <td>145</td>\n",
       "      <td>233</td>\n",
       "      <td>1</td>\n",
       "      <td>0</td>\n",
       "      <td>150</td>\n",
       "      <td>0</td>\n",
       "      <td>2.3</td>\n",
       "      <td>0</td>\n",
       "      <td>0</td>\n",
       "      <td>1</td>\n",
       "      <td>1</td>\n",
       "    </tr>\n",
       "    <tr>\n",
       "      <th>1</th>\n",
       "      <td>37</td>\n",
       "      <td>1</td>\n",
       "      <td>2</td>\n",
       "      <td>130</td>\n",
       "      <td>250</td>\n",
       "      <td>0</td>\n",
       "      <td>1</td>\n",
       "      <td>187</td>\n",
       "      <td>0</td>\n",
       "      <td>3.5</td>\n",
       "      <td>0</td>\n",
       "      <td>0</td>\n",
       "      <td>2</td>\n",
       "      <td>1</td>\n",
       "    </tr>\n",
       "    <tr>\n",
       "      <th>2</th>\n",
       "      <td>41</td>\n",
       "      <td>0</td>\n",
       "      <td>1</td>\n",
       "      <td>130</td>\n",
       "      <td>204</td>\n",
       "      <td>0</td>\n",
       "      <td>0</td>\n",
       "      <td>172</td>\n",
       "      <td>0</td>\n",
       "      <td>1.4</td>\n",
       "      <td>2</td>\n",
       "      <td>0</td>\n",
       "      <td>2</td>\n",
       "      <td>1</td>\n",
       "    </tr>\n",
       "    <tr>\n",
       "      <th>3</th>\n",
       "      <td>56</td>\n",
       "      <td>1</td>\n",
       "      <td>1</td>\n",
       "      <td>120</td>\n",
       "      <td>236</td>\n",
       "      <td>0</td>\n",
       "      <td>1</td>\n",
       "      <td>178</td>\n",
       "      <td>0</td>\n",
       "      <td>0.8</td>\n",
       "      <td>2</td>\n",
       "      <td>0</td>\n",
       "      <td>2</td>\n",
       "      <td>1</td>\n",
       "    </tr>\n",
       "    <tr>\n",
       "      <th>4</th>\n",
       "      <td>57</td>\n",
       "      <td>0</td>\n",
       "      <td>0</td>\n",
       "      <td>120</td>\n",
       "      <td>354</td>\n",
       "      <td>0</td>\n",
       "      <td>1</td>\n",
       "      <td>163</td>\n",
       "      <td>1</td>\n",
       "      <td>0.6</td>\n",
       "      <td>2</td>\n",
       "      <td>0</td>\n",
       "      <td>2</td>\n",
       "      <td>1</td>\n",
       "    </tr>\n",
       "  </tbody>\n",
       "</table>\n",
       "</div>"
      ],
      "text/plain": [
       "   age  sex  cp  trestbps  chol  fbs  restecg  thalach  exang  oldpeak  slope  \\\n",
       "0   63    1   3       145   233    1        0      150      0      2.3      0   \n",
       "1   37    1   2       130   250    0        1      187      0      3.5      0   \n",
       "2   41    0   1       130   204    0        0      172      0      1.4      2   \n",
       "3   56    1   1       120   236    0        1      178      0      0.8      2   \n",
       "4   57    0   0       120   354    0        1      163      1      0.6      2   \n",
       "\n",
       "   ca  thal  target  \n",
       "0   0     1       1  \n",
       "1   0     2       1  \n",
       "2   0     2       1  \n",
       "3   0     2       1  \n",
       "4   0     2       1  "
      ]
     },
     "execution_count": 3,
     "metadata": {},
     "output_type": "execute_result"
    }
   ],
   "source": [
    "dataset.head()"
   ]
  },
  {
   "cell_type": "markdown",
   "metadata": {},
   "source": [
    "### Fields Explained\n",
    "- **age**: The person's age in years\n",
    "- **sex**: The person's sex (1 = male, 0 = female)\n",
    "- **cp**: The chest pain experienced (Value 1: typical angina, Value 2: atypical angina, Value 3: non-anginal pain, Value 4: asymptomatic)\n",
    "- **trestbps**: The person's resting blood pressure (mm Hg on admission to the hospital)\n",
    "- **chol**: The person's cholesterol measurement in mg/dl\n",
    "- **fbs**: The person's fasting blood sugar (> 120 mg/dl, 1 = true; 0 = false)\n",
    "- **restecg**: Resting electrocardiographic measurement (0 = normal, 1 = having ST-T wave abnormality, 2 = showing probable or definite left ventricular hypertrophy by Estes' criteria)\n",
    "- **thalach**: The person's maximum heart rate achieved\n",
    "- **exang**: Exercise induced angina (1 = yes; 0 = no)\n",
    "- **oldpeak**: ST depression induced by exercise relative to rest ('ST' relates to positions on the ECG plot. See more here)\n",
    "- **slope**: the slope of the peak exercise ST segment (Value 1: upsloping, Value 2: flat, Value 3: downsloping)\n",
    "- **ca**: The number of major vessels (0-3)\n",
    "- **thal**: A blood disorder called thalassemia (3 = normal; 6 = fixed defect; 7 = reversable defect)\n",
    "- **target**: Heart disease (0 = no, 1 = yes)"
   ]
  },
  {
   "cell_type": "code",
   "execution_count": 4,
   "metadata": {},
   "outputs": [
    {
     "data": {
      "text/plain": [
       "Index(['age', 'sex', 'cp', 'trestbps', 'chol', 'fbs', 'restecg', 'thalach',\n",
       "       'exang', 'oldpeak', 'slope', 'ca', 'thal', 'target'],\n",
       "      dtype='object')"
      ]
     },
     "execution_count": 4,
     "metadata": {},
     "output_type": "execute_result"
    }
   ],
   "source": [
    "dataset.columns"
   ]
  },
  {
   "cell_type": "markdown",
   "metadata": {},
   "source": [
    "Data contains 303 examples with 13 features and 1 binary label"
   ]
  },
  {
   "cell_type": "code",
   "execution_count": 5,
   "metadata": {
    "scrolled": true
   },
   "outputs": [
    {
     "data": {
      "text/plain": [
       "(303, 14)"
      ]
     },
     "execution_count": 5,
     "metadata": {},
     "output_type": "execute_result"
    }
   ],
   "source": [
    "dataset.shape"
   ]
  },
  {
   "cell_type": "code",
   "execution_count": 6,
   "metadata": {},
   "outputs": [
    {
     "data": {
      "text/plain": [
       "array([1, 0])"
      ]
     },
     "execution_count": 6,
     "metadata": {},
     "output_type": "execute_result"
    }
   ],
   "source": [
    "dataset.target.unique()"
   ]
  },
  {
   "cell_type": "code",
   "execution_count": 7,
   "metadata": {},
   "outputs": [],
   "source": [
    "# One Hot Encoding\n",
    "dataset = pd.get_dummies(dataset, columns=[\"sex\", \"cp\", \"restecg\", \"exang\", \"slope\", \"thal\"])"
   ]
  },
  {
   "cell_type": "code",
   "execution_count": 8,
   "metadata": {
    "scrolled": true
   },
   "outputs": [
    {
     "data": {
      "text/plain": [
       "age         -0.225439\n",
       "trestbps    -0.144931\n",
       "chol        -0.085239\n",
       "fbs         -0.028046\n",
       "thalach      0.421741\n",
       "oldpeak     -0.430696\n",
       "ca          -0.391724\n",
       "target       1.000000\n",
       "sex_0        0.280937\n",
       "sex_1       -0.280937\n",
       "cp_0        -0.516015\n",
       "cp_1         0.245879\n",
       "cp_2         0.316742\n",
       "cp_3         0.086957\n",
       "restecg_0   -0.159775\n",
       "restecg_1    0.175322\n",
       "restecg_2   -0.068410\n",
       "exang_0      0.436757\n",
       "exang_1     -0.436757\n",
       "slope_0     -0.063554\n",
       "slope_1     -0.362053\n",
       "slope_2      0.394066\n",
       "thal_0      -0.007293\n",
       "thal_1      -0.106589\n",
       "thal_2       0.527334\n",
       "thal_3      -0.486112\n",
       "Name: target, dtype: float64"
      ]
     },
     "execution_count": 8,
     "metadata": {},
     "output_type": "execute_result"
    }
   ],
   "source": [
    "dataset.corr()[\"target\"]"
   ]
  },
  {
   "cell_type": "markdown",
   "metadata": {},
   "source": [
    "## Data Visualization"
   ]
  },
  {
   "cell_type": "markdown",
   "metadata": {},
   "source": [
    "### Target"
   ]
  },
  {
   "cell_type": "code",
   "execution_count": 7,
   "metadata": {},
   "outputs": [
    {
     "data": {
      "image/png": "[encoded data removed]",
      "text/plain": [
       "<Figure size 432x288 with 1 Axes>"
      ]
     },
     "metadata": {
      "needs_background": "light"
     },
     "output_type": "display_data"
    }
   ],
   "source": [
    "plt.title(\"Count of Patients With and Without Heart Disease\")\n",
    "sns.countplot(dataset.target)\n",
    "plt.show()"
   ]
  },
  {
   "cell_type": "code",
   "execution_count": 8,
   "metadata": {},
   "outputs": [
    {
     "data": {
      "text/plain": [
       "count    303.000000\n",
       "mean       0.544554\n",
       "std        0.498835\n",
       "min        0.000000\n",
       "25%        0.000000\n",
       "50%        1.000000\n",
       "75%        1.000000\n",
       "max        1.000000\n",
       "Name: target, dtype: float64"
      ]
     },
     "execution_count": 8,
     "metadata": {},
     "output_type": "execute_result"
    }
   ],
   "source": [
    "dataset.target.describe()"
   ]
  },
  {
   "cell_type": "markdown",
   "metadata": {},
   "source": [
    "*Slightly more subjects (54.46%) have heart disease than not.*"
   ]
  },
  {
   "cell_type": "markdown",
   "metadata": {},
   "source": [
    "### Sex"
   ]
  },
  {
   "cell_type": "code",
   "execution_count": 22,
   "metadata": {},
   "outputs": [
    {
     "data": {
      "image/png": "[encoded data removed]",
      "text/plain": [
       "<Figure size 432x288 with 1 Axes>"
      ]
     },
     "metadata": {
      "needs_background": "light"
     },
     "output_type": "display_data"
    }
   ],
   "source": [
    "plt.title(\"Heart Disease Proportion For Each Sex\")\n",
    "sns.barplot(dataset.sex, dataset.target)\n",
    "plt.show()"
   ]
  },
  {
   "cell_type": "markdown",
   "metadata": {},
   "source": [
    "*Heart disease occurs significanly more frequently in female subjects than male subjects.*"
   ]
  },
  {
   "cell_type": "markdown",
   "metadata": {},
   "source": [
    "### Chest Pain"
   ]
  },
  {
   "cell_type": "code",
   "execution_count": 10,
   "metadata": {},
   "outputs": [
    {
     "data": {
      "image/png": "[encoded data removed]",
      "text/plain": [
       "<Figure size 432x288 with 1 Axes>"
      ]
     },
     "metadata": {
      "needs_background": "light"
     },
     "output_type": "display_data"
    }
   ],
   "source": [
    "plt.title(\"Heart Disease Proportion For Each Chest Pain Type\")\n",
    "sns.barplot(dataset.cp, dataset.target)\n",
    "plt.show()"
   ]
  },
  {
   "cell_type": "markdown",
   "metadata": {},
   "source": [
    "*Heart disease occurs significantly less in patients with typical angina while proportions for patients with other chest pains are quite high (70%-80%).*"
   ]
  },
  {
   "cell_type": "markdown",
   "metadata": {},
   "source": [
    "### Fasting Blood Sugar"
   ]
  },
  {
   "cell_type": "code",
   "execution_count": 11,
   "metadata": {},
   "outputs": [
    {
     "data": {
      "image/png": "[encoded data removed]",
      "text/plain": [
       "<Figure size 432x288 with 1 Axes>"
      ]
     },
     "metadata": {
      "needs_background": "light"
     },
     "output_type": "display_data"
    }
   ],
   "source": [
    "plt.title(\"Heart Disease Proportion For Fasting Blood Sugar Amount\")\n",
    "sns.barplot(dataset.fbs, dataset.target)\n",
    "plt.show()"
   ]
  },
  {
   "cell_type": "markdown",
   "metadata": {},
   "source": [
    "*Subjects with resting blood sugar of less than 120 mg/dl are slightly more likely to have heart disease.*"
   ]
  },
  {
   "cell_type": "markdown",
   "metadata": {},
   "source": [
    "### Resting ECG"
   ]
  },
  {
   "cell_type": "code",
   "execution_count": 12,
   "metadata": {},
   "outputs": [
    {
     "data": {
      "image/png": "[encoded data removed]",
      "text/plain": [
       "<Figure size 432x288 with 1 Axes>"
      ]
     },
     "metadata": {
      "needs_background": "light"
     },
     "output_type": "display_data"
    }
   ],
   "source": [
    "plt.title(\"Heart Disease Proportion For Each Resting ECG Diagnosis\")\n",
    "sns.barplot(dataset.restecg, dataset.target)\n",
    "plt.show()"
   ]
  },
  {
   "cell_type": "markdown",
   "metadata": {},
   "source": [
    "*Subjects with ST-T wave abnormality are more likely to have heart disease.*"
   ]
  },
  {
   "cell_type": "markdown",
   "metadata": {},
   "source": [
    "### Exercise Induced Angina"
   ]
  },
  {
   "cell_type": "code",
   "execution_count": 13,
   "metadata": {},
   "outputs": [
    {
     "data": {
      "image/png": "[encoded data removed]",
      "text/plain": [
       "<Figure size 432x288 with 1 Axes>"
      ]
     },
     "metadata": {
      "needs_background": "light"
     },
     "output_type": "display_data"
    }
   ],
   "source": [
    "plt.title(\"Heart Disease Proportion For Subjects With or Without Exerise Induced Angina\")\n",
    "sns.barplot(dataset.exang, dataset.target)\n",
    "plt.show()"
   ]
  },
  {
   "cell_type": "markdown",
   "metadata": {},
   "source": [
    "*Subjects without exercise induced angina are significanly more likely to have heart disease.*"
   ]
  },
  {
   "cell_type": "markdown",
   "metadata": {},
   "source": [
    "### Slope of the Peak Exercise ST Segment"
   ]
  },
  {
   "cell_type": "code",
   "execution_count": 14,
   "metadata": {},
   "outputs": [
    {
     "data": {
      "image/png": "[encoded data removed]",
      "text/plain": [
       "<Figure size 432x288 with 1 Axes>"
      ]
     },
     "metadata": {
      "needs_background": "light"
     },
     "output_type": "display_data"
    }
   ],
   "source": [
    "plt.title(\"Heart Disease Proportion For Different Sloping Values\")\n",
    "sns.barplot(dataset.slope, dataset.target)\n",
    "plt.show()"
   ]
  },
  {
   "cell_type": "markdown",
   "metadata": {},
   "source": [
    "*Subjects with a flat slope have a significantly higher change of heart disease.*"
   ]
  },
  {
   "cell_type": "markdown",
   "metadata": {},
   "source": [
    "### Number of Major Blood Vessels"
   ]
  },
  {
   "cell_type": "code",
   "execution_count": 15,
   "metadata": {},
   "outputs": [
    {
     "data": {
      "image/png": "[encoded data removed]",
      "text/plain": [
       "<Figure size 432x288 with 1 Axes>"
      ]
     },
     "metadata": {
      "needs_background": "light"
     },
     "output_type": "display_data"
    }
   ],
   "source": [
    "plt.title(\"Heart Disease Proportion For Different Number of Major Blood Vessels\")\n",
    "sns.barplot(dataset.ca, dataset.target)\n",
    "plt.show()"
   ]
  },
  {
   "cell_type": "markdown",
   "metadata": {},
   "source": [
    "### Thalassemia"
   ]
  },
  {
   "cell_type": "code",
   "execution_count": 16,
   "metadata": {},
   "outputs": [
    {
     "data": {
      "image/png": "[encoded data removed]",
      "text/plain": [
       "<Figure size 432x288 with 1 Axes>"
      ]
     },
     "metadata": {
      "needs_background": "light"
     },
     "output_type": "display_data"
    }
   ],
   "source": [
    "plt.title(\"Heart Disease Proportion For Different Number of Major Blood Vessels\")\n",
    "sns.barplot(dataset.thal, dataset.target)\n",
    "plt.show()"
   ]
  },
  {
   "cell_type": "markdown",
   "metadata": {},
   "source": [
    "## Data Preprocessing"
   ]
  },
  {
   "cell_type": "code",
   "execution_count": 9,
   "metadata": {},
   "outputs": [],
   "source": [
    "import pandas as pd\n",
    "from sklearn.model_selection import train_test_split\n",
    "\n",
    "# dataset = pd.read_csv(\"./data/heart_disease.csv\")\n",
    "features = dataset.drop(\"target\", axis = 1)\n",
    "labels = dataset.target\n",
    "\n",
    "# Get training and testing data\n",
    "train_data, test_data, train_labels, test_labels = train_test_split(features, labels, train_size = 0.8)"
   ]
  },
  {
   "cell_type": "code",
   "execution_count": 10,
   "metadata": {},
   "outputs": [
    {
     "name": "stdout",
     "output_type": "stream",
     "text": [
      "Train Data Shape: (242, 25)\n",
      "Train Label Count: 242\n",
      "\n",
      "Test Data Shape: (61, 25)\n",
      "Test Label Count: 61\n",
      "\n"
     ]
    }
   ],
   "source": [
    "print(\"Train Data Shape: \" + str(train_data.shape))\n",
    "print(\"Train Label Count: \" + str(len(train_labels)) + \"\\n\")\n",
    "print(\"Test Data Shape: \" + str(test_data.shape))\n",
    "print(\"Test Label Count: \" + str(len(test_labels)) + \"\\n\")"
   ]
  },
  {
   "cell_type": "markdown",
   "metadata": {},
   "source": [
    "## Support Vector Machine"
   ]
  },
  {
   "cell_type": "code",
   "execution_count": 11,
   "metadata": {},
   "outputs": [],
   "source": [
    "from sklearn import svm\n",
    "def build_svm():\n",
    "    model = svm.SVC()\n",
    "    model.fit(train_data, train_labels)\n",
    "    print(\"Accuracy: \" + str(model.score(test_data, test_labels)))"
   ]
  },
  {
   "cell_type": "code",
   "execution_count": 12,
   "metadata": {},
   "outputs": [
    {
     "name": "stdout",
     "output_type": "stream",
     "text": [
      "Accuracy: 0.5245901639344263\n"
     ]
    }
   ],
   "source": [
    "build_svm()"
   ]
  },
  {
   "cell_type": "markdown",
   "metadata": {},
   "source": [
    "## Deep Model Definition"
   ]
  },
  {
   "cell_type": "code",
   "execution_count": 13,
   "metadata": {},
   "outputs": [
    {
     "name": "stderr",
     "output_type": "stream",
     "text": [
      "Using TensorFlow backend.\n"
     ]
    }
   ],
   "source": [
    "# Keras modules\n",
    "from keras.models import Sequential\n",
    "from keras.layers import Dense\n",
    "from keras.layers import Dropout\n",
    "from keras.optimizers import Adamax\n",
    "from keras.initializers import RandomUniform\n",
    "\n",
    "# # Mute depreciation warnings\n",
    "from tensorflow.python.util import deprecation\n",
    "deprecation._PRINT_DEPRECATION_WARNINGS = False\n",
    "\n",
    "# Hyperparameter tuning modules\n",
    "from keras.wrappers.scikit_learn import KerasClassifier\n",
    "from sklearn.model_selection import GridSearchCV"
   ]
  },
  {
   "cell_type": "code",
   "execution_count": 14,
   "metadata": {},
   "outputs": [],
   "source": [
    "def build_model(lr=0.001, decay=0.0, initializer_val=0.05, num_layers=1, num_nodes=16, dp=0.0):\n",
    "    # Defining model\n",
    "    model = Sequential()\n",
    "    \n",
    "    # Defining kernel_initializer\n",
    "    initializer = RandomUniform(minval=-initializer_val, maxval=initializer_val)\n",
    "    \n",
    "    # Adding layers\n",
    "    model.add(Dense(num_nodes, kernel_initializer=initializer, activation=\"relu\", input_dim=train_data.shape[1]))\n",
    "    model.add(Dropout(dp))\n",
    "    model.add(Dense(num_nodes, kernel_initializer=initializer, activation=\"relu\"))\n",
    "    model.add(Dropout(dp))\n",
    "    \n",
    "    model.add(Dense(1, kernel_initializer=initializer, activation=\"sigmoid\"))\n",
    "    \n",
    "    # Defining optimizer\n",
    "    opt = Adamax(lr=lr, decay=decay)\n",
    "    \n",
    "    # Compiling model\n",
    "    model.compile(loss=\"binary_crossentropy\", optimizer=opt, metrics=[\"accuracy\"])\n",
    "    \n",
    "    return model"
   ]
  },
  {
   "cell_type": "markdown",
   "metadata": {},
   "source": [
    "## Model Tuning"
   ]
  },
  {
   "cell_type": "code",
   "execution_count": 43,
   "metadata": {},
   "outputs": [],
   "source": [
    "# Keras Classifier for model tuning\n",
    "model = KerasClassifier(build_fn=build_model, verbose=0, epochs=20)\n",
    "\n",
    "# Grid search tuning\n",
    "def tune_by_grid(model, param_grid, cv=5):\n",
    "    grid = GridSearchCV(estimator=model, scoring=\"accuracy\", param_grid=param_grid, verbose=1, cv=cv)\n",
    "    grid_result = grid.fit(train_data, train_labels)\n",
    "    print(\"Tuning finished.\")\n",
    "\n",
    "    return grid_result\n",
    "\n",
    "# Grid analysis\n",
    "def get_grid_analysis(grid_result):\n",
    "    # Print best result\n",
    "    print(\"Best: \" + str(round(grid_result.best_score_, 3)) + \" using \" + str(grid_result.best_params_))\n",
    "    \n",
    "    # Get means, stds, and params\n",
    "    means = grid_result.cv_results_['mean_test_score']\n",
    "    stds = grid_result.cv_results_['std_test_score']\n",
    "    params = grid_result.cv_results_['params']\n",
    "    \n",
    "    # Print means, stds, and params\n",
    "    for mean, stdev, param in zip(means, stds, params):\n",
    "        print(str(round(mean, 3)) + \" with: \" + str(param) + \" stdev: \" + str(round(stdev, 3)) + \"\")"
   ]
  },
  {
   "cell_type": "markdown",
   "metadata": {},
   "source": [
    "### Learning Rate and Dropout Optimization"
   ]
  },
  {
   "cell_type": "code",
   "execution_count": 44,
   "metadata": {
    "scrolled": true
   },
   "outputs": [
    {
     "name": "stdout",
     "output_type": "stream",
     "text": [
      "Fitting 5 folds for each of 12 candidates, totalling 60 fits\n"
     ]
    },
    {
     "name": "stderr",
     "output_type": "stream",
     "text": [
      "[Parallel(n_jobs=1)]: Using backend SequentialBackend with 1 concurrent workers.\n",
      "[Parallel(n_jobs=1)]: Done  60 out of  60 | elapsed:  5.6min finished\n",
      "/Library/Frameworks/Python.framework/Versions/3.6/lib/python3.6/site-packages/sklearn/model_selection/_search.py:841: DeprecationWarning: The default of the `iid` parameter will change from True to False in version 0.22 and will be removed in 0.24. This will change numeric results when test-set sizes are unequal.\n",
      "  DeprecationWarning)\n"
     ]
    },
    {
     "name": "stdout",
     "output_type": "stream",
     "text": [
      "Tuning finished.\n",
      "Best: 0.645 using {'dp': 0.0, 'lr': 0.003}\n",
      "0.645 with: {'dp': 0.0, 'lr': 0.003} stdev: 0.108\n",
      "0.574 with: {'dp': 0.0, 'lr': 0.002} stdev: 0.111\n",
      "0.566 with: {'dp': 0.0, 'lr': 0.001} stdev: 0.11\n",
      "0.62 with: {'dp': 0.1, 'lr': 0.003} stdev: 0.117\n",
      "0.562 with: {'dp': 0.1, 'lr': 0.002} stdev: 0.101\n",
      "0.562 with: {'dp': 0.1, 'lr': 0.001} stdev: 0.104\n",
      "0.579 with: {'dp': 0.2, 'lr': 0.003} stdev: 0.112\n",
      "0.574 with: {'dp': 0.2, 'lr': 0.002} stdev: 0.121\n",
      "0.554 with: {'dp': 0.2, 'lr': 0.001} stdev: 0.095\n",
      "0.595 with: {'dp': 0.3, 'lr': 0.003} stdev: 0.129\n",
      "0.55 with: {'dp': 0.3, 'lr': 0.002} stdev: 0.091\n",
      "0.554 with: {'dp': 0.3, 'lr': 0.001} stdev: 0.095\n"
     ]
    }
   ],
   "source": [
    "def optimize_lr_dp():\n",
    "    grid = dict(lr = [0.003, 0.002, 0.001], dp = [0.0, 0.1, 0.2, 0.3])\n",
    "    cv = 5\n",
    "    grid_result = tune_by_grid(model, grid, cv)\n",
    "    get_grid_analysis(grid_result)\n",
    "    \n",
    "optimize_lr_dp()"
   ]
  },
  {
   "cell_type": "markdown",
   "metadata": {},
   "source": [
    "### Epoch Optimization"
   ]
  },
  {
   "cell_type": "code",
   "execution_count": 19,
   "metadata": {
    "scrolled": true
   },
   "outputs": [
    {
     "name": "stdout",
     "output_type": "stream",
     "text": [
      "Fitting 5 folds for each of 4 candidates, totalling 20 fits\n"
     ]
    },
    {
     "name": "stderr",
     "output_type": "stream",
     "text": [
      "[Parallel(n_jobs=1)]: Using backend SequentialBackend with 1 concurrent workers.\n",
      "[Parallel(n_jobs=1)]: Done  20 out of  20 | elapsed:  1.8min finished\n",
      "/Library/Frameworks/Python.framework/Versions/3.6/lib/python3.6/site-packages/sklearn/model_selection/_search.py:841: DeprecationWarning: The default of the `iid` parameter will change from True to False in version 0.22 and will be removed in 0.24. This will change numeric results when test-set sizes are unequal.\n",
      "  DeprecationWarning)\n"
     ]
    },
    {
     "name": "stdout",
     "output_type": "stream",
     "text": [
      "Tuning finished.\n",
      "Best: 0.822 using {'epochs': 350}\n",
      "0.802 with: {'epochs': 250} stdev: 0.054\n",
      "0.814 with: {'epochs': 300} stdev: 0.035\n",
      "0.822 with: {'epochs': 350} stdev: 0.051\n",
      "0.818 with: {'epochs': 400} stdev: 0.028\n"
     ]
    }
   ],
   "source": [
    "def optimize_epoch():\n",
    "    grid = dict(epochs = [250, 300, 350, 400])\n",
    "    cv = 5\n",
    "    grid_result = tune_by_grid(model, grid, cv)\n",
    "    get_grid_analysis(grid_result)\n",
    "    \n",
    "optimize_epoch()"
   ]
  },
  {
   "cell_type": "markdown",
   "metadata": {},
   "source": [
    "### Kernel Initializer RandomUniform Range Optimization"
   ]
  },
  {
   "cell_type": "code",
   "execution_count": 11,
   "metadata": {
    "scrolled": true
   },
   "outputs": [
    {
     "name": "stdout",
     "output_type": "stream",
     "text": [
      "Fitting 10 folds for each of 4 candidates, totalling 40 fits\n"
     ]
    },
    {
     "name": "stderr",
     "output_type": "stream",
     "text": [
      "[Parallel(n_jobs=1)]: Using backend SequentialBackend with 1 concurrent workers.\n",
      "[Parallel(n_jobs=1)]: Done  40 out of  40 | elapsed:  5.1min finished\n",
      "/Library/Frameworks/Python.framework/Versions/3.6/lib/python3.6/site-packages/sklearn/model_selection/_search.py:841: DeprecationWarning: The default of the `iid` parameter will change from True to False in version 0.22 and will be removed in 0.24. This will change numeric results when test-set sizes are unequal.\n",
      "  DeprecationWarning)\n"
     ]
    },
    {
     "name": "stdout",
     "output_type": "stream",
     "text": [
      "Tuning finished.\n",
      "Best: 0.826 using {'initializer_val': 0.04}\n",
      "0.826 with: {'initializer_val': 0.04} stdev: 0.058\n",
      "0.818 with: {'initializer_val': 0.03} stdev: 0.068\n",
      "0.822 with: {'initializer_val': 0.02} stdev: 0.05\n",
      "0.818 with: {'initializer_val': 0.01} stdev: 0.065\n"
     ]
    }
   ],
   "source": [
    "initializer_grid = dict(initializer_val = [0.04, 0.03, 0.02, 0.01])\n",
    "grid_result = tune_by_grid(model, initializer_grid, 5)\n",
    "get_grid_analysis(grid_result)"
   ]
  },
  {
   "cell_type": "markdown",
   "metadata": {},
   "source": [
    "## Model Fitting"
   ]
  },
  {
   "cell_type": "code",
   "execution_count": 93,
   "metadata": {},
   "outputs": [
    {
     "name": "stdout",
     "output_type": "stream",
     "text": [
      "Train on 193 samples, validate on 49 samples\n",
      "Epoch 1/700\n",
      "193/193 [==============================] - 6s 33ms/step - loss: 0.6930 - acc: 0.5337 - val_loss: 0.6912 - val_acc: 0.6327\n",
      "Epoch 2/700\n",
      "193/193 [==============================] - 0s 80us/step - loss: 0.6928 - acc: 0.5337 - val_loss: 0.6909 - val_acc: 0.6327\n",
      "Epoch 3/700\n",
      "193/193 [==============================] - 0s 95us/step - loss: 0.6926 - acc: 0.5337 - val_loss: 0.6907 - val_acc: 0.6327\n",
      "Epoch 4/700\n",
      "193/193 [==============================] - 0s 93us/step - loss: 0.6927 - acc: 0.5337 - val_loss: 0.6904 - val_acc: 0.6327\n",
      "Epoch 5/700\n",
      "193/193 [==============================] - 0s 83us/step - loss: 0.6925 - acc: 0.5337 - val_loss: 0.6901 - val_acc: 0.6327\n",
      "Epoch 6/700\n",
      "193/193 [==============================] - 0s 84us/step - loss: 0.6923 - acc: 0.5337 - val_loss: 0.6899 - val_acc: 0.6327\n",
      "Epoch 7/700\n",
      "193/193 [==============================] - 0s 82us/step - loss: 0.6924 - acc: 0.5337 - val_loss: 0.6897 - val_acc: 0.6327\n",
      "Epoch 8/700\n",
      "193/193 [==============================] - 0s 83us/step - loss: 0.6923 - acc: 0.5337 - val_loss: 0.6894 - val_acc: 0.6327\n",
      "Epoch 9/700\n",
      "193/193 [==============================] - 0s 79us/step - loss: 0.6922 - acc: 0.5337 - val_loss: 0.6892 - val_acc: 0.6327\n",
      "Epoch 10/700\n",
      "193/193 [==============================] - 0s 80us/step - loss: 0.6923 - acc: 0.5337 - val_loss: 0.6889 - val_acc: 0.6327\n",
      "Epoch 11/700\n",
      "193/193 [==============================] - 0s 77us/step - loss: 0.6921 - acc: 0.5337 - val_loss: 0.6886 - val_acc: 0.6327\n",
      "Epoch 12/700\n",
      "193/193 [==============================] - 0s 77us/step - loss: 0.6919 - acc: 0.5337 - val_loss: 0.6883 - val_acc: 0.6327\n",
      "Epoch 13/700\n",
      "193/193 [==============================] - 0s 79us/step - loss: 0.6919 - acc: 0.5337 - val_loss: 0.6880 - val_acc: 0.6327\n",
      "Epoch 14/700\n",
      "193/193 [==============================] - 0s 85us/step - loss: 0.6916 - acc: 0.5337 - val_loss: 0.6877 - val_acc: 0.6327\n",
      "Epoch 15/700\n",
      "193/193 [==============================] - 0s 100us/step - loss: 0.6917 - acc: 0.5337 - val_loss: 0.6874 - val_acc: 0.6327\n",
      "Epoch 16/700\n",
      "193/193 [==============================] - 0s 80us/step - loss: 0.6915 - acc: 0.5337 - val_loss: 0.6870 - val_acc: 0.6327\n",
      "Epoch 17/700\n",
      "193/193 [==============================] - 0s 84us/step - loss: 0.6913 - acc: 0.5337 - val_loss: 0.6866 - val_acc: 0.6327\n",
      "Epoch 18/700\n",
      "193/193 [==============================] - 0s 83us/step - loss: 0.6914 - acc: 0.5337 - val_loss: 0.6862 - val_acc: 0.6327\n",
      "Epoch 19/700\n",
      "193/193 [==============================] - 0s 83us/step - loss: 0.6913 - acc: 0.5337 - val_loss: 0.6857 - val_acc: 0.6327\n",
      "Epoch 20/700\n",
      "193/193 [==============================] - 0s 79us/step - loss: 0.6910 - acc: 0.5337 - val_loss: 0.6852 - val_acc: 0.6327\n",
      "Epoch 21/700\n",
      "193/193 [==============================] - 0s 76us/step - loss: 0.6908 - acc: 0.5337 - val_loss: 0.6847 - val_acc: 0.6327\n",
      "Epoch 22/700\n",
      "193/193 [==============================] - 0s 78us/step - loss: 0.6906 - acc: 0.5337 - val_loss: 0.6841 - val_acc: 0.6327\n",
      "Epoch 23/700\n",
      "193/193 [==============================] - 0s 84us/step - loss: 0.6903 - acc: 0.5337 - val_loss: 0.6835 - val_acc: 0.6327\n",
      "Epoch 24/700\n",
      "193/193 [==============================] - 0s 79us/step - loss: 0.6904 - acc: 0.5337 - val_loss: 0.6829 - val_acc: 0.6327\n",
      "Epoch 25/700\n",
      "193/193 [==============================] - 0s 81us/step - loss: 0.6902 - acc: 0.5337 - val_loss: 0.6824 - val_acc: 0.6327\n",
      "Epoch 26/700\n",
      "193/193 [==============================] - 0s 80us/step - loss: 0.6900 - acc: 0.5337 - val_loss: 0.6819 - val_acc: 0.6327\n",
      "Epoch 27/700\n",
      "193/193 [==============================] - 0s 80us/step - loss: 0.6900 - acc: 0.5337 - val_loss: 0.6814 - val_acc: 0.6327\n",
      "Epoch 28/700\n",
      "193/193 [==============================] - 0s 73us/step - loss: 0.6897 - acc: 0.5337 - val_loss: 0.6808 - val_acc: 0.6327\n",
      "Epoch 29/700\n",
      "193/193 [==============================] - 0s 75us/step - loss: 0.6894 - acc: 0.5337 - val_loss: 0.6803 - val_acc: 0.6327\n",
      "Epoch 30/700\n",
      "193/193 [==============================] - 0s 83us/step - loss: 0.6891 - acc: 0.5337 - val_loss: 0.6798 - val_acc: 0.6327\n",
      "Epoch 31/700\n",
      "193/193 [==============================] - 0s 84us/step - loss: 0.6895 - acc: 0.5337 - val_loss: 0.6793 - val_acc: 0.6327\n",
      "Epoch 32/700\n",
      "193/193 [==============================] - 0s 86us/step - loss: 0.6889 - acc: 0.5337 - val_loss: 0.6789 - val_acc: 0.6327\n",
      "Epoch 33/700\n",
      "193/193 [==============================] - 0s 80us/step - loss: 0.6890 - acc: 0.5337 - val_loss: 0.6784 - val_acc: 0.6327\n",
      "Epoch 34/700\n",
      "193/193 [==============================] - 0s 80us/step - loss: 0.6886 - acc: 0.5337 - val_loss: 0.6780 - val_acc: 0.6327\n",
      "Epoch 35/700\n",
      "193/193 [==============================] - 0s 73us/step - loss: 0.6886 - acc: 0.5337 - val_loss: 0.6775 - val_acc: 0.6327\n",
      "Epoch 36/700\n",
      "193/193 [==============================] - 0s 75us/step - loss: 0.6886 - acc: 0.5337 - val_loss: 0.6770 - val_acc: 0.6327\n",
      "Epoch 37/700\n",
      "193/193 [==============================] - 0s 76us/step - loss: 0.6884 - acc: 0.5337 - val_loss: 0.6766 - val_acc: 0.6327\n",
      "Epoch 38/700\n",
      "193/193 [==============================] - 0s 74us/step - loss: 0.6880 - acc: 0.5337 - val_loss: 0.6762 - val_acc: 0.6327\n",
      "Epoch 39/700\n",
      "193/193 [==============================] - 0s 72us/step - loss: 0.6876 - acc: 0.5337 - val_loss: 0.6757 - val_acc: 0.6327\n",
      "Epoch 40/700\n",
      "193/193 [==============================] - 0s 83us/step - loss: 0.6882 - acc: 0.5337 - val_loss: 0.6752 - val_acc: 0.6327\n",
      "Epoch 41/700\n",
      "193/193 [==============================] - 0s 81us/step - loss: 0.6880 - acc: 0.5337 - val_loss: 0.6747 - val_acc: 0.6327\n",
      "Epoch 42/700\n",
      "193/193 [==============================] - 0s 82us/step - loss: 0.6873 - acc: 0.5337 - val_loss: 0.6742 - val_acc: 0.6327\n",
      "Epoch 43/700\n",
      "193/193 [==============================] - 0s 75us/step - loss: 0.6873 - acc: 0.5337 - val_loss: 0.6736 - val_acc: 0.6327\n",
      "Epoch 44/700\n",
      "193/193 [==============================] - 0s 75us/step - loss: 0.6869 - acc: 0.5337 - val_loss: 0.6731 - val_acc: 0.6327\n",
      "Epoch 45/700\n",
      "193/193 [==============================] - 0s 71us/step - loss: 0.6868 - acc: 0.5337 - val_loss: 0.6725 - val_acc: 0.6327\n",
      "Epoch 46/700\n",
      "193/193 [==============================] - 0s 70us/step - loss: 0.6864 - acc: 0.5337 - val_loss: 0.6720 - val_acc: 0.6327\n",
      "Epoch 47/700\n",
      "193/193 [==============================] - 0s 69us/step - loss: 0.6863 - acc: 0.5337 - val_loss: 0.6716 - val_acc: 0.6327\n",
      "Epoch 48/700\n",
      "193/193 [==============================] - 0s 70us/step - loss: 0.6865 - acc: 0.5337 - val_loss: 0.6711 - val_acc: 0.6327\n",
      "Epoch 49/700\n",
      "193/193 [==============================] - 0s 70us/step - loss: 0.6857 - acc: 0.5337 - val_loss: 0.6708 - val_acc: 0.6327\n",
      "Epoch 50/700\n",
      "193/193 [==============================] - 0s 77us/step - loss: 0.6858 - acc: 0.5337 - val_loss: 0.6705 - val_acc: 0.6327\n",
      "Epoch 51/700\n",
      "193/193 [==============================] - 0s 72us/step - loss: 0.6858 - acc: 0.5337 - val_loss: 0.6702 - val_acc: 0.6327\n",
      "Epoch 52/700\n",
      "193/193 [==============================] - 0s 74us/step - loss: 0.6852 - acc: 0.5337 - val_loss: 0.6700 - val_acc: 0.6327\n",
      "Epoch 53/700\n",
      "193/193 [==============================] - 0s 69us/step - loss: 0.6855 - acc: 0.5337 - val_loss: 0.6697 - val_acc: 0.6327\n",
      "Epoch 54/700\n",
      "193/193 [==============================] - 0s 71us/step - loss: 0.6851 - acc: 0.5337 - val_loss: 0.6694 - val_acc: 0.6327\n",
      "Epoch 55/700\n",
      "193/193 [==============================] - 0s 65us/step - loss: 0.6847 - acc: 0.5337 - val_loss: 0.6692 - val_acc: 0.6327\n",
      "Epoch 56/700\n",
      "193/193 [==============================] - 0s 67us/step - loss: 0.6843 - acc: 0.5337 - val_loss: 0.6688 - val_acc: 0.6327\n",
      "Epoch 57/700\n",
      "193/193 [==============================] - 0s 74us/step - loss: 0.6842 - acc: 0.5337 - val_loss: 0.6684 - val_acc: 0.6327\n",
      "Epoch 58/700\n",
      "193/193 [==============================] - 0s 72us/step - loss: 0.6838 - acc: 0.5337 - val_loss: 0.6681 - val_acc: 0.6327\n",
      "Epoch 59/700\n",
      "193/193 [==============================] - 0s 74us/step - loss: 0.6834 - acc: 0.5337 - val_loss: 0.6677 - val_acc: 0.6327\n",
      "Epoch 60/700\n",
      "193/193 [==============================] - 0s 69us/step - loss: 0.6830 - acc: 0.5337 - val_loss: 0.6672 - val_acc: 0.6327\n",
      "Epoch 61/700\n"
     ]
    },
    {
     "name": "stdout",
     "output_type": "stream",
     "text": [
      "193/193 [==============================] - 0s 71us/step - loss: 0.6828 - acc: 0.5337 - val_loss: 0.6667 - val_acc: 0.6327\n",
      "Epoch 62/700\n",
      "193/193 [==============================] - 0s 67us/step - loss: 0.6824 - acc: 0.5337 - val_loss: 0.6664 - val_acc: 0.6327\n",
      "Epoch 63/700\n",
      "193/193 [==============================] - 0s 67us/step - loss: 0.6820 - acc: 0.5337 - val_loss: 0.6658 - val_acc: 0.6327\n",
      "Epoch 64/700\n",
      "193/193 [==============================] - 0s 70us/step - loss: 0.6816 - acc: 0.5337 - val_loss: 0.6652 - val_acc: 0.6327\n",
      "Epoch 65/700\n",
      "193/193 [==============================] - 0s 69us/step - loss: 0.6817 - acc: 0.5337 - val_loss: 0.6645 - val_acc: 0.6327\n",
      "Epoch 66/700\n",
      "193/193 [==============================] - 0s 67us/step - loss: 0.6814 - acc: 0.5337 - val_loss: 0.6639 - val_acc: 0.6327\n",
      "Epoch 67/700\n",
      "193/193 [==============================] - 0s 65us/step - loss: 0.6815 - acc: 0.5337 - val_loss: 0.6634 - val_acc: 0.6327\n",
      "Epoch 68/700\n",
      "193/193 [==============================] - 0s 68us/step - loss: 0.6809 - acc: 0.5337 - val_loss: 0.6630 - val_acc: 0.6327\n",
      "Epoch 69/700\n",
      "193/193 [==============================] - 0s 69us/step - loss: 0.6803 - acc: 0.5337 - val_loss: 0.6625 - val_acc: 0.6327\n",
      "Epoch 70/700\n",
      "193/193 [==============================] - 0s 68us/step - loss: 0.6797 - acc: 0.5337 - val_loss: 0.6621 - val_acc: 0.6327\n",
      "Epoch 71/700\n",
      "193/193 [==============================] - 0s 68us/step - loss: 0.6798 - acc: 0.5337 - val_loss: 0.6617 - val_acc: 0.6327\n",
      "Epoch 72/700\n",
      "193/193 [==============================] - 0s 67us/step - loss: 0.6787 - acc: 0.5337 - val_loss: 0.6610 - val_acc: 0.6327\n",
      "Epoch 73/700\n",
      "193/193 [==============================] - 0s 70us/step - loss: 0.6781 - acc: 0.5337 - val_loss: 0.6604 - val_acc: 0.6327\n",
      "Epoch 74/700\n",
      "193/193 [==============================] - 0s 66us/step - loss: 0.6781 - acc: 0.5337 - val_loss: 0.6597 - val_acc: 0.6327\n",
      "Epoch 75/700\n",
      "193/193 [==============================] - 0s 70us/step - loss: 0.6773 - acc: 0.5337 - val_loss: 0.6589 - val_acc: 0.6327\n",
      "Epoch 76/700\n",
      "193/193 [==============================] - 0s 70us/step - loss: 0.6768 - acc: 0.5389 - val_loss: 0.6582 - val_acc: 0.6327\n",
      "Epoch 77/700\n",
      "193/193 [==============================] - 0s 71us/step - loss: 0.6765 - acc: 0.5337 - val_loss: 0.6576 - val_acc: 0.6327\n",
      "Epoch 78/700\n",
      "193/193 [==============================] - 0s 69us/step - loss: 0.6759 - acc: 0.5337 - val_loss: 0.6573 - val_acc: 0.6327\n",
      "Epoch 79/700\n",
      "193/193 [==============================] - 0s 68us/step - loss: 0.6756 - acc: 0.5337 - val_loss: 0.6568 - val_acc: 0.6327\n",
      "Epoch 80/700\n",
      "193/193 [==============================] - 0s 73us/step - loss: 0.6744 - acc: 0.5337 - val_loss: 0.6562 - val_acc: 0.6327\n",
      "Epoch 81/700\n",
      "193/193 [==============================] - 0s 76us/step - loss: 0.6745 - acc: 0.5337 - val_loss: 0.6555 - val_acc: 0.6327\n",
      "Epoch 82/700\n",
      "193/193 [==============================] - 0s 71us/step - loss: 0.6737 - acc: 0.5389 - val_loss: 0.6549 - val_acc: 0.6327\n",
      "Epoch 83/700\n",
      "193/193 [==============================] - 0s 70us/step - loss: 0.6730 - acc: 0.5440 - val_loss: 0.6542 - val_acc: 0.6327\n",
      "Epoch 84/700\n",
      "193/193 [==============================] - 0s 70us/step - loss: 0.6728 - acc: 0.5492 - val_loss: 0.6537 - val_acc: 0.6327\n",
      "Epoch 85/700\n",
      "193/193 [==============================] - 0s 72us/step - loss: 0.6726 - acc: 0.5492 - val_loss: 0.6530 - val_acc: 0.6327\n",
      "Epoch 86/700\n",
      "193/193 [==============================] - 0s 71us/step - loss: 0.6713 - acc: 0.5544 - val_loss: 0.6524 - val_acc: 0.6327\n",
      "Epoch 87/700\n",
      "193/193 [==============================] - 0s 69us/step - loss: 0.6703 - acc: 0.5648 - val_loss: 0.6518 - val_acc: 0.6327\n",
      "Epoch 88/700\n",
      "193/193 [==============================] - 0s 71us/step - loss: 0.6704 - acc: 0.5648 - val_loss: 0.6511 - val_acc: 0.6531\n",
      "Epoch 89/700\n",
      "193/193 [==============================] - 0s 71us/step - loss: 0.6690 - acc: 0.5959 - val_loss: 0.6504 - val_acc: 0.6531\n",
      "Epoch 90/700\n",
      "193/193 [==============================] - 0s 72us/step - loss: 0.6681 - acc: 0.6062 - val_loss: 0.6497 - val_acc: 0.6531\n",
      "Epoch 91/700\n",
      "193/193 [==============================] - 0s 76us/step - loss: 0.6683 - acc: 0.5907 - val_loss: 0.6486 - val_acc: 0.6531\n",
      "Epoch 92/700\n",
      "193/193 [==============================] - 0s 68us/step - loss: 0.6674 - acc: 0.5959 - val_loss: 0.6475 - val_acc: 0.6531\n",
      "Epoch 93/700\n",
      "193/193 [==============================] - 0s 73us/step - loss: 0.6666 - acc: 0.5959 - val_loss: 0.6461 - val_acc: 0.6531\n",
      "Epoch 94/700\n",
      "193/193 [==============================] - 0s 67us/step - loss: 0.6653 - acc: 0.6010 - val_loss: 0.6449 - val_acc: 0.6531\n",
      "Epoch 95/700\n",
      "193/193 [==============================] - 0s 84us/step - loss: 0.6647 - acc: 0.6010 - val_loss: 0.6435 - val_acc: 0.6531\n",
      "Epoch 96/700\n",
      "193/193 [==============================] - 0s 68us/step - loss: 0.6631 - acc: 0.6114 - val_loss: 0.6424 - val_acc: 0.6735\n",
      "Epoch 97/700\n",
      "193/193 [==============================] - 0s 67us/step - loss: 0.6646 - acc: 0.6010 - val_loss: 0.6413 - val_acc: 0.6939\n",
      "Epoch 98/700\n",
      "193/193 [==============================] - 0s 68us/step - loss: 0.6619 - acc: 0.6114 - val_loss: 0.6404 - val_acc: 0.6939\n",
      "Epoch 99/700\n",
      "193/193 [==============================] - 0s 70us/step - loss: 0.6629 - acc: 0.6062 - val_loss: 0.6395 - val_acc: 0.6939\n",
      "Epoch 100/700\n",
      "193/193 [==============================] - 0s 66us/step - loss: 0.6613 - acc: 0.6166 - val_loss: 0.6383 - val_acc: 0.6939\n",
      "Epoch 101/700\n",
      "193/193 [==============================] - 0s 74us/step - loss: 0.6594 - acc: 0.6114 - val_loss: 0.6371 - val_acc: 0.6939\n",
      "Epoch 102/700\n",
      "193/193 [==============================] - 0s 69us/step - loss: 0.6593 - acc: 0.6218 - val_loss: 0.6356 - val_acc: 0.6939\n",
      "Epoch 103/700\n",
      "193/193 [==============================] - 0s 69us/step - loss: 0.6578 - acc: 0.6166 - val_loss: 0.6342 - val_acc: 0.6939\n",
      "Epoch 104/700\n",
      "193/193 [==============================] - 0s 70us/step - loss: 0.6576 - acc: 0.6166 - val_loss: 0.6330 - val_acc: 0.6939\n",
      "Epoch 105/700\n",
      "193/193 [==============================] - 0s 74us/step - loss: 0.6559 - acc: 0.6269 - val_loss: 0.6321 - val_acc: 0.6939\n",
      "Epoch 106/700\n",
      "193/193 [==============================] - 0s 71us/step - loss: 0.6555 - acc: 0.6166 - val_loss: 0.6313 - val_acc: 0.6939\n",
      "Epoch 107/700\n",
      "193/193 [==============================] - 0s 67us/step - loss: 0.6555 - acc: 0.6114 - val_loss: 0.6305 - val_acc: 0.7143\n",
      "Epoch 108/700\n",
      "193/193 [==============================] - 0s 64us/step - loss: 0.6546 - acc: 0.6062 - val_loss: 0.6294 - val_acc: 0.7143\n",
      "Epoch 109/700\n",
      "193/193 [==============================] - 0s 73us/step - loss: 0.6526 - acc: 0.6166 - val_loss: 0.6282 - val_acc: 0.7347\n",
      "Epoch 110/700\n",
      "193/193 [==============================] - 0s 65us/step - loss: 0.6525 - acc: 0.6166 - val_loss: 0.6273 - val_acc: 0.7551\n",
      "Epoch 111/700\n",
      "193/193 [==============================] - 0s 70us/step - loss: 0.6509 - acc: 0.6114 - val_loss: 0.6266 - val_acc: 0.7551\n",
      "Epoch 112/700\n",
      "193/193 [==============================] - 0s 68us/step - loss: 0.6506 - acc: 0.6114 - val_loss: 0.6260 - val_acc: 0.7347\n",
      "Epoch 113/700\n",
      "193/193 [==============================] - 0s 69us/step - loss: 0.6499 - acc: 0.6114 - val_loss: 0.6252 - val_acc: 0.7347\n",
      "Epoch 114/700\n",
      "193/193 [==============================] - 0s 66us/step - loss: 0.6486 - acc: 0.6166 - val_loss: 0.6246 - val_acc: 0.7347\n",
      "Epoch 115/700\n",
      "193/193 [==============================] - 0s 67us/step - loss: 0.6477 - acc: 0.6373 - val_loss: 0.6235 - val_acc: 0.7347\n",
      "Epoch 116/700\n",
      "193/193 [==============================] - 0s 64us/step - loss: 0.6501 - acc: 0.6269 - val_loss: 0.6225 - val_acc: 0.7347\n",
      "Epoch 117/700\n",
      "193/193 [==============================] - 0s 63us/step - loss: 0.6471 - acc: 0.6321 - val_loss: 0.6217 - val_acc: 0.7347\n",
      "Epoch 118/700\n",
      "193/193 [==============================] - 0s 64us/step - loss: 0.6457 - acc: 0.6425 - val_loss: 0.6208 - val_acc: 0.7347\n",
      "Epoch 119/700\n",
      "193/193 [==============================] - 0s 65us/step - loss: 0.6464 - acc: 0.6425 - val_loss: 0.6199 - val_acc: 0.7347\n",
      "Epoch 120/700\n",
      "193/193 [==============================] - 0s 66us/step - loss: 0.6440 - acc: 0.6528 - val_loss: 0.6188 - val_acc: 0.7347\n",
      "Epoch 121/700\n"
     ]
    },
    {
     "name": "stdout",
     "output_type": "stream",
     "text": [
      "193/193 [==============================] - 0s 62us/step - loss: 0.6427 - acc: 0.6580 - val_loss: 0.6176 - val_acc: 0.7347\n",
      "Epoch 122/700\n",
      "193/193 [==============================] - 0s 67us/step - loss: 0.6414 - acc: 0.6528 - val_loss: 0.6160 - val_acc: 0.7347\n",
      "Epoch 123/700\n",
      "193/193 [==============================] - 0s 63us/step - loss: 0.6430 - acc: 0.6528 - val_loss: 0.6143 - val_acc: 0.7347\n",
      "Epoch 124/700\n",
      "193/193 [==============================] - 0s 70us/step - loss: 0.6402 - acc: 0.6425 - val_loss: 0.6128 - val_acc: 0.7347\n",
      "Epoch 125/700\n",
      "193/193 [==============================] - 0s 72us/step - loss: 0.6400 - acc: 0.6321 - val_loss: 0.6112 - val_acc: 0.7347\n",
      "Epoch 126/700\n",
      "193/193 [==============================] - 0s 71us/step - loss: 0.6386 - acc: 0.6477 - val_loss: 0.6096 - val_acc: 0.7347\n",
      "Epoch 127/700\n",
      "193/193 [==============================] - 0s 63us/step - loss: 0.6378 - acc: 0.6373 - val_loss: 0.6084 - val_acc: 0.7347\n",
      "Epoch 128/700\n",
      "193/193 [==============================] - 0s 63us/step - loss: 0.6371 - acc: 0.6425 - val_loss: 0.6078 - val_acc: 0.7347\n",
      "Epoch 129/700\n",
      "193/193 [==============================] - 0s 69us/step - loss: 0.6380 - acc: 0.6477 - val_loss: 0.6070 - val_acc: 0.7347\n",
      "Epoch 130/700\n",
      "193/193 [==============================] - 0s 68us/step - loss: 0.6348 - acc: 0.6528 - val_loss: 0.6062 - val_acc: 0.7347\n",
      "Epoch 131/700\n",
      "193/193 [==============================] - 0s 69us/step - loss: 0.6336 - acc: 0.6684 - val_loss: 0.6058 - val_acc: 0.7347\n",
      "Epoch 132/700\n",
      "193/193 [==============================] - 0s 64us/step - loss: 0.6329 - acc: 0.6632 - val_loss: 0.6049 - val_acc: 0.7347\n",
      "Epoch 133/700\n",
      "193/193 [==============================] - 0s 65us/step - loss: 0.6326 - acc: 0.6736 - val_loss: 0.6042 - val_acc: 0.7347\n",
      "Epoch 134/700\n",
      "193/193 [==============================] - 0s 64us/step - loss: 0.6340 - acc: 0.6580 - val_loss: 0.6031 - val_acc: 0.7347\n",
      "Epoch 135/700\n",
      "193/193 [==============================] - 0s 70us/step - loss: 0.6306 - acc: 0.6788 - val_loss: 0.6021 - val_acc: 0.7347\n",
      "Epoch 136/700\n",
      "193/193 [==============================] - 0s 66us/step - loss: 0.6312 - acc: 0.6788 - val_loss: 0.6010 - val_acc: 0.7347\n",
      "Epoch 137/700\n",
      "193/193 [==============================] - 0s 67us/step - loss: 0.6315 - acc: 0.6684 - val_loss: 0.6002 - val_acc: 0.7347\n",
      "Epoch 138/700\n",
      "193/193 [==============================] - 0s 68us/step - loss: 0.6295 - acc: 0.6632 - val_loss: 0.5994 - val_acc: 0.7347\n",
      "Epoch 139/700\n",
      "193/193 [==============================] - 0s 66us/step - loss: 0.6284 - acc: 0.6580 - val_loss: 0.5987 - val_acc: 0.7347\n",
      "Epoch 140/700\n",
      "193/193 [==============================] - 0s 67us/step - loss: 0.6281 - acc: 0.6632 - val_loss: 0.5983 - val_acc: 0.7143\n",
      "Epoch 141/700\n",
      "193/193 [==============================] - 0s 71us/step - loss: 0.6280 - acc: 0.6839 - val_loss: 0.5977 - val_acc: 0.7143\n",
      "Epoch 142/700\n",
      "193/193 [==============================] - 0s 67us/step - loss: 0.6252 - acc: 0.6943 - val_loss: 0.5968 - val_acc: 0.7143\n",
      "Epoch 143/700\n",
      "193/193 [==============================] - 0s 67us/step - loss: 0.6242 - acc: 0.6943 - val_loss: 0.5956 - val_acc: 0.7143\n",
      "Epoch 144/700\n",
      "193/193 [==============================] - 0s 66us/step - loss: 0.6247 - acc: 0.6891 - val_loss: 0.5947 - val_acc: 0.7143\n",
      "Epoch 145/700\n",
      "193/193 [==============================] - 0s 71us/step - loss: 0.6220 - acc: 0.6995 - val_loss: 0.5935 - val_acc: 0.7143\n",
      "Epoch 146/700\n",
      "193/193 [==============================] - 0s 65us/step - loss: 0.6244 - acc: 0.6943 - val_loss: 0.5926 - val_acc: 0.7143\n",
      "Epoch 147/700\n",
      "193/193 [==============================] - 0s 65us/step - loss: 0.6211 - acc: 0.7047 - val_loss: 0.5918 - val_acc: 0.7143\n",
      "Epoch 148/700\n",
      "193/193 [==============================] - 0s 66us/step - loss: 0.6193 - acc: 0.7047 - val_loss: 0.5906 - val_acc: 0.7143\n",
      "Epoch 149/700\n",
      "193/193 [==============================] - 0s 70us/step - loss: 0.6214 - acc: 0.6943 - val_loss: 0.5894 - val_acc: 0.7143\n",
      "Epoch 150/700\n",
      "193/193 [==============================] - 0s 71us/step - loss: 0.6203 - acc: 0.6995 - val_loss: 0.5886 - val_acc: 0.7143\n",
      "Epoch 151/700\n",
      "193/193 [==============================] - 0s 73us/step - loss: 0.6172 - acc: 0.7047 - val_loss: 0.5881 - val_acc: 0.7143\n",
      "Epoch 152/700\n",
      "193/193 [==============================] - 0s 76us/step - loss: 0.6162 - acc: 0.7098 - val_loss: 0.5876 - val_acc: 0.7143\n",
      "Epoch 153/700\n",
      "193/193 [==============================] - 0s 70us/step - loss: 0.6159 - acc: 0.7150 - val_loss: 0.5875 - val_acc: 0.7143\n",
      "Epoch 154/700\n",
      "193/193 [==============================] - 0s 69us/step - loss: 0.6177 - acc: 0.6891 - val_loss: 0.5872 - val_acc: 0.6939\n",
      "Epoch 155/700\n",
      "193/193 [==============================] - 0s 66us/step - loss: 0.6154 - acc: 0.7098 - val_loss: 0.5861 - val_acc: 0.6939\n",
      "Epoch 156/700\n",
      "193/193 [==============================] - 0s 66us/step - loss: 0.6133 - acc: 0.7150 - val_loss: 0.5849 - val_acc: 0.6939\n",
      "Epoch 157/700\n",
      "193/193 [==============================] - 0s 69us/step - loss: 0.6145 - acc: 0.6995 - val_loss: 0.5830 - val_acc: 0.7143\n",
      "Epoch 158/700\n",
      "193/193 [==============================] - 0s 70us/step - loss: 0.6136 - acc: 0.7098 - val_loss: 0.5815 - val_acc: 0.7143\n",
      "Epoch 159/700\n",
      "193/193 [==============================] - 0s 71us/step - loss: 0.6095 - acc: 0.6995 - val_loss: 0.5800 - val_acc: 0.7143\n",
      "Epoch 160/700\n",
      "193/193 [==============================] - 0s 68us/step - loss: 0.6110 - acc: 0.6943 - val_loss: 0.5788 - val_acc: 0.7143\n",
      "Epoch 161/700\n",
      "193/193 [==============================] - 0s 71us/step - loss: 0.6079 - acc: 0.6995 - val_loss: 0.5777 - val_acc: 0.7143\n",
      "Epoch 162/700\n",
      "193/193 [==============================] - 0s 67us/step - loss: 0.6082 - acc: 0.6995 - val_loss: 0.5763 - val_acc: 0.7143\n",
      "Epoch 163/700\n",
      "193/193 [==============================] - 0s 72us/step - loss: 0.6072 - acc: 0.6995 - val_loss: 0.5749 - val_acc: 0.7143\n",
      "Epoch 164/700\n",
      "193/193 [==============================] - 0s 69us/step - loss: 0.6064 - acc: 0.6995 - val_loss: 0.5744 - val_acc: 0.7143\n",
      "Epoch 165/700\n",
      "193/193 [==============================] - 0s 71us/step - loss: 0.6070 - acc: 0.6995 - val_loss: 0.5737 - val_acc: 0.7143\n",
      "Epoch 166/700\n",
      "193/193 [==============================] - 0s 63us/step - loss: 0.6041 - acc: 0.7098 - val_loss: 0.5732 - val_acc: 0.7143\n",
      "Epoch 167/700\n",
      "193/193 [==============================] - 0s 68us/step - loss: 0.6033 - acc: 0.7202 - val_loss: 0.5729 - val_acc: 0.7143\n",
      "Epoch 168/700\n",
      "193/193 [==============================] - 0s 69us/step - loss: 0.6049 - acc: 0.7150 - val_loss: 0.5720 - val_acc: 0.7143\n",
      "Epoch 169/700\n",
      "193/193 [==============================] - 0s 67us/step - loss: 0.6049 - acc: 0.7202 - val_loss: 0.5712 - val_acc: 0.7143\n",
      "Epoch 170/700\n",
      "193/193 [==============================] - 0s 67us/step - loss: 0.6033 - acc: 0.7358 - val_loss: 0.5704 - val_acc: 0.7347\n",
      "Epoch 171/700\n",
      "193/193 [==============================] - 0s 70us/step - loss: 0.5988 - acc: 0.7358 - val_loss: 0.5697 - val_acc: 0.7347\n",
      "Epoch 172/700\n",
      "193/193 [==============================] - 0s 66us/step - loss: 0.5975 - acc: 0.7254 - val_loss: 0.5686 - val_acc: 0.7347\n",
      "Epoch 173/700\n",
      "193/193 [==============================] - 0s 71us/step - loss: 0.6006 - acc: 0.7306 - val_loss: 0.5676 - val_acc: 0.7347\n",
      "Epoch 174/700\n",
      "193/193 [==============================] - 0s 69us/step - loss: 0.5974 - acc: 0.7358 - val_loss: 0.5664 - val_acc: 0.7347\n",
      "Epoch 175/700\n",
      "193/193 [==============================] - 0s 68us/step - loss: 0.5960 - acc: 0.7306 - val_loss: 0.5656 - val_acc: 0.7347\n",
      "Epoch 176/700\n",
      "193/193 [==============================] - 0s 69us/step - loss: 0.5945 - acc: 0.7358 - val_loss: 0.5653 - val_acc: 0.7551\n",
      "Epoch 177/700\n",
      "193/193 [==============================] - 0s 69us/step - loss: 0.5958 - acc: 0.7358 - val_loss: 0.5648 - val_acc: 0.7551\n",
      "Epoch 178/700\n",
      "193/193 [==============================] - 0s 69us/step - loss: 0.5950 - acc: 0.7358 - val_loss: 0.5641 - val_acc: 0.7551\n",
      "Epoch 179/700\n",
      "193/193 [==============================] - 0s 67us/step - loss: 0.5947 - acc: 0.7358 - val_loss: 0.5629 - val_acc: 0.7551\n",
      "Epoch 180/700\n",
      "193/193 [==============================] - 0s 71us/step - loss: 0.5911 - acc: 0.7409 - val_loss: 0.5611 - val_acc: 0.7347\n",
      "Epoch 181/700\n"
     ]
    },
    {
     "name": "stdout",
     "output_type": "stream",
     "text": [
      "193/193 [==============================] - 0s 68us/step - loss: 0.5926 - acc: 0.7306 - val_loss: 0.5589 - val_acc: 0.7347\n",
      "Epoch 182/700\n",
      "193/193 [==============================] - 0s 67us/step - loss: 0.5919 - acc: 0.7358 - val_loss: 0.5570 - val_acc: 0.7551\n",
      "Epoch 183/700\n",
      "193/193 [==============================] - 0s 71us/step - loss: 0.5901 - acc: 0.7254 - val_loss: 0.5558 - val_acc: 0.7551\n",
      "Epoch 184/700\n",
      "193/193 [==============================] - 0s 75us/step - loss: 0.5893 - acc: 0.7254 - val_loss: 0.5547 - val_acc: 0.7551\n",
      "Epoch 185/700\n",
      "193/193 [==============================] - 0s 73us/step - loss: 0.5858 - acc: 0.7358 - val_loss: 0.5539 - val_acc: 0.7551\n",
      "Epoch 186/700\n",
      "193/193 [==============================] - 0s 71us/step - loss: 0.5866 - acc: 0.7358 - val_loss: 0.5531 - val_acc: 0.7551\n",
      "Epoch 187/700\n",
      "193/193 [==============================] - 0s 71us/step - loss: 0.5883 - acc: 0.7358 - val_loss: 0.5525 - val_acc: 0.7551\n",
      "Epoch 188/700\n",
      "193/193 [==============================] - 0s 70us/step - loss: 0.5830 - acc: 0.7358 - val_loss: 0.5522 - val_acc: 0.7347\n",
      "Epoch 189/700\n",
      "193/193 [==============================] - 0s 65us/step - loss: 0.5847 - acc: 0.7409 - val_loss: 0.5519 - val_acc: 0.7551\n",
      "Epoch 190/700\n",
      "193/193 [==============================] - 0s 66us/step - loss: 0.5826 - acc: 0.7358 - val_loss: 0.5517 - val_acc: 0.7347\n",
      "Epoch 191/700\n",
      "193/193 [==============================] - 0s 70us/step - loss: 0.5843 - acc: 0.7461 - val_loss: 0.5516 - val_acc: 0.7347\n",
      "Epoch 192/700\n",
      "193/193 [==============================] - 0s 67us/step - loss: 0.5799 - acc: 0.7409 - val_loss: 0.5510 - val_acc: 0.7347\n",
      "Epoch 193/700\n",
      "193/193 [==============================] - 0s 66us/step - loss: 0.5789 - acc: 0.7461 - val_loss: 0.5500 - val_acc: 0.7347\n",
      "Epoch 194/700\n",
      "193/193 [==============================] - 0s 66us/step - loss: 0.5759 - acc: 0.7461 - val_loss: 0.5491 - val_acc: 0.7347\n",
      "Epoch 195/700\n",
      "193/193 [==============================] - 0s 68us/step - loss: 0.5753 - acc: 0.7409 - val_loss: 0.5485 - val_acc: 0.7347\n",
      "Epoch 196/700\n",
      "193/193 [==============================] - 0s 65us/step - loss: 0.5743 - acc: 0.7409 - val_loss: 0.5474 - val_acc: 0.7347\n",
      "Epoch 197/700\n",
      "193/193 [==============================] - 0s 69us/step - loss: 0.5764 - acc: 0.7513 - val_loss: 0.5461 - val_acc: 0.7347\n",
      "Epoch 198/700\n",
      "193/193 [==============================] - 0s 68us/step - loss: 0.5749 - acc: 0.7409 - val_loss: 0.5456 - val_acc: 0.7347\n",
      "Epoch 199/700\n",
      "193/193 [==============================] - 0s 69us/step - loss: 0.5763 - acc: 0.7461 - val_loss: 0.5440 - val_acc: 0.7347\n",
      "Epoch 200/700\n",
      "193/193 [==============================] - 0s 68us/step - loss: 0.5751 - acc: 0.7409 - val_loss: 0.5433 - val_acc: 0.7347\n",
      "Epoch 201/700\n",
      "193/193 [==============================] - 0s 69us/step - loss: 0.5804 - acc: 0.7202 - val_loss: 0.5419 - val_acc: 0.7347\n",
      "Epoch 202/700\n",
      "193/193 [==============================] - 0s 70us/step - loss: 0.5783 - acc: 0.7358 - val_loss: 0.5409 - val_acc: 0.7347\n",
      "Epoch 203/700\n",
      "193/193 [==============================] - 0s 66us/step - loss: 0.5735 - acc: 0.7358 - val_loss: 0.5397 - val_acc: 0.7347\n",
      "Epoch 204/700\n",
      "193/193 [==============================] - 0s 70us/step - loss: 0.5692 - acc: 0.7461 - val_loss: 0.5394 - val_acc: 0.7347\n",
      "Epoch 205/700\n",
      "193/193 [==============================] - 0s 73us/step - loss: 0.5688 - acc: 0.7461 - val_loss: 0.5394 - val_acc: 0.7347\n",
      "Epoch 206/700\n",
      "193/193 [==============================] - 0s 68us/step - loss: 0.5689 - acc: 0.7409 - val_loss: 0.5383 - val_acc: 0.7347\n",
      "Epoch 207/700\n",
      "193/193 [==============================] - 0s 66us/step - loss: 0.5727 - acc: 0.7461 - val_loss: 0.5376 - val_acc: 0.7347\n",
      "Epoch 208/700\n",
      "193/193 [==============================] - 0s 68us/step - loss: 0.5603 - acc: 0.7565 - val_loss: 0.5374 - val_acc: 0.7347\n",
      "Epoch 209/700\n",
      "193/193 [==============================] - 0s 66us/step - loss: 0.5672 - acc: 0.7461 - val_loss: 0.5370 - val_acc: 0.7347\n",
      "Epoch 210/700\n",
      "193/193 [==============================] - 0s 67us/step - loss: 0.5636 - acc: 0.7565 - val_loss: 0.5364 - val_acc: 0.7347\n",
      "Epoch 211/700\n",
      "193/193 [==============================] - 0s 67us/step - loss: 0.5627 - acc: 0.7461 - val_loss: 0.5357 - val_acc: 0.7347\n",
      "Epoch 212/700\n",
      "193/193 [==============================] - 0s 67us/step - loss: 0.5626 - acc: 0.7513 - val_loss: 0.5345 - val_acc: 0.7347\n",
      "Epoch 213/700\n",
      "193/193 [==============================] - 0s 67us/step - loss: 0.5657 - acc: 0.7461 - val_loss: 0.5330 - val_acc: 0.7347\n",
      "Epoch 214/700\n",
      "193/193 [==============================] - 0s 65us/step - loss: 0.5628 - acc: 0.7409 - val_loss: 0.5322 - val_acc: 0.7347\n",
      "Epoch 215/700\n",
      "193/193 [==============================] - 0s 67us/step - loss: 0.5556 - acc: 0.7513 - val_loss: 0.5312 - val_acc: 0.7347\n",
      "Epoch 216/700\n",
      "193/193 [==============================] - 0s 70us/step - loss: 0.5603 - acc: 0.7617 - val_loss: 0.5311 - val_acc: 0.7347\n",
      "Epoch 217/700\n",
      "193/193 [==============================] - 0s 64us/step - loss: 0.5617 - acc: 0.7565 - val_loss: 0.5301 - val_acc: 0.7347\n",
      "Epoch 218/700\n",
      "193/193 [==============================] - 0s 66us/step - loss: 0.5586 - acc: 0.7461 - val_loss: 0.5283 - val_acc: 0.7347\n",
      "Epoch 219/700\n",
      "193/193 [==============================] - 0s 68us/step - loss: 0.5549 - acc: 0.7513 - val_loss: 0.5267 - val_acc: 0.7347\n",
      "Epoch 220/700\n",
      "193/193 [==============================] - 0s 71us/step - loss: 0.5536 - acc: 0.7461 - val_loss: 0.5261 - val_acc: 0.7347\n",
      "Epoch 221/700\n",
      "193/193 [==============================] - 0s 64us/step - loss: 0.5600 - acc: 0.7513 - val_loss: 0.5260 - val_acc: 0.7347\n",
      "Epoch 222/700\n",
      "193/193 [==============================] - 0s 70us/step - loss: 0.5545 - acc: 0.7409 - val_loss: 0.5256 - val_acc: 0.7347\n",
      "Epoch 223/700\n",
      "193/193 [==============================] - 0s 68us/step - loss: 0.5507 - acc: 0.7565 - val_loss: 0.5249 - val_acc: 0.7347\n",
      "Epoch 224/700\n",
      "193/193 [==============================] - 0s 64us/step - loss: 0.5511 - acc: 0.7565 - val_loss: 0.5250 - val_acc: 0.7347\n",
      "Epoch 225/700\n",
      "193/193 [==============================] - 0s 65us/step - loss: 0.5554 - acc: 0.7409 - val_loss: 0.5250 - val_acc: 0.7347\n",
      "Epoch 226/700\n",
      "193/193 [==============================] - 0s 66us/step - loss: 0.5518 - acc: 0.7513 - val_loss: 0.5251 - val_acc: 0.7143\n",
      "Epoch 227/700\n",
      "193/193 [==============================] - 0s 64us/step - loss: 0.5555 - acc: 0.7409 - val_loss: 0.5241 - val_acc: 0.7143\n",
      "Epoch 228/700\n",
      "193/193 [==============================] - 0s 65us/step - loss: 0.5504 - acc: 0.7565 - val_loss: 0.5220 - val_acc: 0.7347\n",
      "Epoch 229/700\n",
      "193/193 [==============================] - 0s 63us/step - loss: 0.5449 - acc: 0.7513 - val_loss: 0.5212 - val_acc: 0.7347\n",
      "Epoch 230/700\n",
      "193/193 [==============================] - 0s 66us/step - loss: 0.5427 - acc: 0.7461 - val_loss: 0.5197 - val_acc: 0.7347\n",
      "Epoch 231/700\n",
      "193/193 [==============================] - 0s 70us/step - loss: 0.5514 - acc: 0.7409 - val_loss: 0.5188 - val_acc: 0.7347\n",
      "Epoch 232/700\n",
      "193/193 [==============================] - 0s 66us/step - loss: 0.5466 - acc: 0.7513 - val_loss: 0.5186 - val_acc: 0.7347\n",
      "Epoch 233/700\n",
      "193/193 [==============================] - 0s 68us/step - loss: 0.5444 - acc: 0.7461 - val_loss: 0.5174 - val_acc: 0.7347\n",
      "Epoch 234/700\n",
      "193/193 [==============================] - 0s 64us/step - loss: 0.5418 - acc: 0.7513 - val_loss: 0.5168 - val_acc: 0.7347\n",
      "Epoch 235/700\n",
      "193/193 [==============================] - 0s 65us/step - loss: 0.5480 - acc: 0.7513 - val_loss: 0.5161 - val_acc: 0.7347\n",
      "Epoch 236/700\n",
      "193/193 [==============================] - 0s 68us/step - loss: 0.5547 - acc: 0.7254 - val_loss: 0.5152 - val_acc: 0.7347\n",
      "Epoch 237/700\n",
      "193/193 [==============================] - 0s 64us/step - loss: 0.5420 - acc: 0.7409 - val_loss: 0.5151 - val_acc: 0.7143\n",
      "Epoch 238/700\n",
      "193/193 [==============================] - 0s 69us/step - loss: 0.5372 - acc: 0.7617 - val_loss: 0.5157 - val_acc: 0.7143\n",
      "Epoch 239/700\n",
      "193/193 [==============================] - 0s 64us/step - loss: 0.5406 - acc: 0.7461 - val_loss: 0.5162 - val_acc: 0.7143\n",
      "Epoch 240/700\n",
      "193/193 [==============================] - 0s 70us/step - loss: 0.5361 - acc: 0.7617 - val_loss: 0.5163 - val_acc: 0.7143\n",
      "Epoch 241/700\n"
     ]
    },
    {
     "name": "stdout",
     "output_type": "stream",
     "text": [
      "193/193 [==============================] - 0s 70us/step - loss: 0.5365 - acc: 0.7513 - val_loss: 0.5163 - val_acc: 0.7143\n",
      "Epoch 242/700\n",
      "193/193 [==============================] - 0s 65us/step - loss: 0.5350 - acc: 0.7617 - val_loss: 0.5158 - val_acc: 0.7143\n",
      "Epoch 243/700\n",
      "193/193 [==============================] - 0s 64us/step - loss: 0.5345 - acc: 0.7720 - val_loss: 0.5143 - val_acc: 0.7143\n",
      "Epoch 244/700\n",
      "193/193 [==============================] - 0s 72us/step - loss: 0.5349 - acc: 0.7720 - val_loss: 0.5125 - val_acc: 0.7143\n",
      "Epoch 245/700\n",
      "193/193 [==============================] - 0s 67us/step - loss: 0.5356 - acc: 0.7565 - val_loss: 0.5112 - val_acc: 0.7143\n",
      "Epoch 246/700\n",
      "193/193 [==============================] - 0s 68us/step - loss: 0.5321 - acc: 0.7668 - val_loss: 0.5103 - val_acc: 0.7143\n",
      "Epoch 247/700\n",
      "193/193 [==============================] - 0s 63us/step - loss: 0.5304 - acc: 0.7565 - val_loss: 0.5099 - val_acc: 0.7143\n",
      "Epoch 248/700\n",
      "193/193 [==============================] - 0s 70us/step - loss: 0.5332 - acc: 0.7720 - val_loss: 0.5092 - val_acc: 0.7143\n",
      "Epoch 249/700\n",
      "193/193 [==============================] - 0s 72us/step - loss: 0.5326 - acc: 0.7565 - val_loss: 0.5089 - val_acc: 0.7143\n",
      "Epoch 250/700\n",
      "193/193 [==============================] - 0s 68us/step - loss: 0.5304 - acc: 0.7668 - val_loss: 0.5085 - val_acc: 0.7143\n",
      "Epoch 251/700\n",
      "193/193 [==============================] - 0s 70us/step - loss: 0.5297 - acc: 0.7565 - val_loss: 0.5078 - val_acc: 0.7143\n",
      "Epoch 252/700\n",
      "193/193 [==============================] - 0s 68us/step - loss: 0.5247 - acc: 0.7668 - val_loss: 0.5075 - val_acc: 0.7143\n",
      "Epoch 253/700\n",
      "193/193 [==============================] - 0s 65us/step - loss: 0.5263 - acc: 0.7617 - val_loss: 0.5079 - val_acc: 0.7143\n",
      "Epoch 254/700\n",
      "193/193 [==============================] - 0s 72us/step - loss: 0.5302 - acc: 0.7668 - val_loss: 0.5081 - val_acc: 0.7143\n",
      "Epoch 255/700\n",
      "193/193 [==============================] - 0s 69us/step - loss: 0.5277 - acc: 0.7772 - val_loss: 0.5074 - val_acc: 0.7143\n",
      "Epoch 256/700\n",
      "193/193 [==============================] - 0s 73us/step - loss: 0.5310 - acc: 0.7668 - val_loss: 0.5055 - val_acc: 0.7143\n",
      "Epoch 257/700\n",
      "193/193 [==============================] - 0s 72us/step - loss: 0.5326 - acc: 0.7668 - val_loss: 0.5036 - val_acc: 0.7143\n",
      "Epoch 258/700\n",
      "193/193 [==============================] - 0s 66us/step - loss: 0.5232 - acc: 0.7720 - val_loss: 0.5017 - val_acc: 0.7143\n",
      "Epoch 259/700\n",
      "193/193 [==============================] - 0s 74us/step - loss: 0.5194 - acc: 0.7668 - val_loss: 0.5010 - val_acc: 0.7143\n",
      "Epoch 260/700\n",
      "193/193 [==============================] - 0s 68us/step - loss: 0.5249 - acc: 0.7668 - val_loss: 0.5007 - val_acc: 0.7143\n",
      "Epoch 261/700\n",
      "193/193 [==============================] - 0s 69us/step - loss: 0.5201 - acc: 0.7772 - val_loss: 0.4998 - val_acc: 0.7143\n",
      "Epoch 262/700\n",
      "193/193 [==============================] - 0s 69us/step - loss: 0.5190 - acc: 0.7668 - val_loss: 0.5002 - val_acc: 0.7143\n",
      "Epoch 263/700\n",
      "193/193 [==============================] - 0s 69us/step - loss: 0.5287 - acc: 0.7617 - val_loss: 0.5004 - val_acc: 0.7143\n",
      "Epoch 264/700\n",
      "193/193 [==============================] - 0s 70us/step - loss: 0.5175 - acc: 0.7668 - val_loss: 0.5007 - val_acc: 0.7143\n",
      "Epoch 265/700\n",
      "193/193 [==============================] - 0s 70us/step - loss: 0.5191 - acc: 0.7668 - val_loss: 0.5019 - val_acc: 0.7347\n",
      "Epoch 266/700\n",
      "193/193 [==============================] - 0s 70us/step - loss: 0.5216 - acc: 0.7824 - val_loss: 0.5017 - val_acc: 0.7347\n",
      "Epoch 267/700\n",
      "193/193 [==============================] - 0s 65us/step - loss: 0.5184 - acc: 0.7772 - val_loss: 0.5004 - val_acc: 0.7347\n",
      "Epoch 268/700\n",
      "193/193 [==============================] - 0s 71us/step - loss: 0.5118 - acc: 0.7824 - val_loss: 0.4980 - val_acc: 0.7143\n",
      "Epoch 269/700\n",
      "193/193 [==============================] - 0s 69us/step - loss: 0.5186 - acc: 0.7824 - val_loss: 0.4963 - val_acc: 0.7143\n",
      "Epoch 270/700\n",
      "193/193 [==============================] - 0s 69us/step - loss: 0.5093 - acc: 0.7824 - val_loss: 0.4954 - val_acc: 0.7143\n",
      "Epoch 271/700\n",
      "193/193 [==============================] - 0s 69us/step - loss: 0.5138 - acc: 0.7720 - val_loss: 0.4954 - val_acc: 0.7143\n",
      "Epoch 272/700\n",
      "193/193 [==============================] - 0s 71us/step - loss: 0.5120 - acc: 0.7772 - val_loss: 0.4952 - val_acc: 0.7143\n",
      "Epoch 273/700\n",
      "193/193 [==============================] - 0s 70us/step - loss: 0.5058 - acc: 0.7927 - val_loss: 0.4946 - val_acc: 0.7143\n",
      "Epoch 274/700\n",
      "193/193 [==============================] - 0s 67us/step - loss: 0.5102 - acc: 0.7772 - val_loss: 0.4938 - val_acc: 0.7143\n",
      "Epoch 275/700\n",
      "193/193 [==============================] - 0s 66us/step - loss: 0.5082 - acc: 0.7824 - val_loss: 0.4922 - val_acc: 0.7143\n",
      "Epoch 276/700\n",
      "193/193 [==============================] - 0s 69us/step - loss: 0.5152 - acc: 0.7772 - val_loss: 0.4914 - val_acc: 0.7143\n",
      "Epoch 277/700\n",
      "193/193 [==============================] - 0s 72us/step - loss: 0.5055 - acc: 0.7720 - val_loss: 0.4913 - val_acc: 0.7143\n",
      "Epoch 278/700\n",
      "193/193 [==============================] - 0s 69us/step - loss: 0.5127 - acc: 0.7720 - val_loss: 0.4927 - val_acc: 0.7347\n",
      "Epoch 279/700\n",
      "193/193 [==============================] - 0s 67us/step - loss: 0.5106 - acc: 0.7720 - val_loss: 0.4937 - val_acc: 0.7347\n",
      "Epoch 280/700\n",
      "193/193 [==============================] - 0s 66us/step - loss: 0.5074 - acc: 0.7772 - val_loss: 0.4932 - val_acc: 0.7347\n",
      "Epoch 281/700\n",
      "193/193 [==============================] - 0s 64us/step - loss: 0.4976 - acc: 0.7824 - val_loss: 0.4912 - val_acc: 0.7347\n",
      "Epoch 282/700\n",
      "193/193 [==============================] - 0s 68us/step - loss: 0.5105 - acc: 0.7824 - val_loss: 0.4892 - val_acc: 0.7143\n",
      "Epoch 283/700\n",
      "193/193 [==============================] - 0s 67us/step - loss: 0.5027 - acc: 0.7876 - val_loss: 0.4875 - val_acc: 0.7143\n",
      "Epoch 284/700\n",
      "193/193 [==============================] - 0s 67us/step - loss: 0.5063 - acc: 0.7824 - val_loss: 0.4862 - val_acc: 0.7143\n",
      "Epoch 285/700\n",
      "193/193 [==============================] - 0s 68us/step - loss: 0.5073 - acc: 0.7824 - val_loss: 0.4861 - val_acc: 0.7143\n",
      "Epoch 286/700\n",
      "193/193 [==============================] - 0s 67us/step - loss: 0.5065 - acc: 0.7772 - val_loss: 0.4860 - val_acc: 0.7143\n",
      "Epoch 287/700\n",
      "193/193 [==============================] - 0s 67us/step - loss: 0.5059 - acc: 0.7876 - val_loss: 0.4856 - val_acc: 0.7143\n",
      "Epoch 288/700\n",
      "193/193 [==============================] - 0s 66us/step - loss: 0.5016 - acc: 0.7927 - val_loss: 0.4861 - val_acc: 0.7347\n",
      "Epoch 289/700\n",
      "193/193 [==============================] - 0s 64us/step - loss: 0.5181 - acc: 0.7772 - val_loss: 0.4877 - val_acc: 0.7347\n",
      "Epoch 290/700\n",
      "193/193 [==============================] - 0s 64us/step - loss: 0.5028 - acc: 0.7824 - val_loss: 0.4890 - val_acc: 0.7347\n",
      "Epoch 291/700\n",
      "193/193 [==============================] - 0s 63us/step - loss: 0.5005 - acc: 0.7876 - val_loss: 0.4889 - val_acc: 0.7347\n",
      "Epoch 292/700\n",
      "193/193 [==============================] - 0s 67us/step - loss: 0.5015 - acc: 0.7876 - val_loss: 0.4884 - val_acc: 0.7347\n",
      "Epoch 293/700\n",
      "193/193 [==============================] - 0s 67us/step - loss: 0.4999 - acc: 0.7824 - val_loss: 0.4877 - val_acc: 0.7347\n",
      "Epoch 294/700\n",
      "193/193 [==============================] - 0s 72us/step - loss: 0.5062 - acc: 0.7772 - val_loss: 0.4873 - val_acc: 0.7347\n",
      "Epoch 295/700\n",
      "193/193 [==============================] - 0s 63us/step - loss: 0.4977 - acc: 0.7927 - val_loss: 0.4866 - val_acc: 0.7347\n",
      "Epoch 296/700\n",
      "193/193 [==============================] - 0s 67us/step - loss: 0.5068 - acc: 0.7617 - val_loss: 0.4863 - val_acc: 0.7347\n",
      "Epoch 297/700\n",
      "193/193 [==============================] - 0s 63us/step - loss: 0.5014 - acc: 0.7824 - val_loss: 0.4846 - val_acc: 0.7347\n",
      "Epoch 298/700\n",
      "193/193 [==============================] - ETA: 0s - loss: 0.5126 - acc: 0.801 - 0s 66us/step - loss: 0.4980 - acc: 0.7876 - val_loss: 0.4834 - val_acc: 0.7347\n",
      "Epoch 299/700\n",
      "193/193 [==============================] - 0s 67us/step - loss: 0.4940 - acc: 0.7927 - val_loss: 0.4818 - val_acc: 0.7347\n",
      "Epoch 300/700\n",
      "193/193 [==============================] - 0s 63us/step - loss: 0.4942 - acc: 0.7824 - val_loss: 0.4808 - val_acc: 0.7347\n",
      "Epoch 301/700\n"
     ]
    },
    {
     "name": "stdout",
     "output_type": "stream",
     "text": [
      "193/193 [==============================] - 0s 63us/step - loss: 0.4919 - acc: 0.7772 - val_loss: 0.4810 - val_acc: 0.7347\n",
      "Epoch 302/700\n",
      "193/193 [==============================] - 0s 64us/step - loss: 0.4992 - acc: 0.7824 - val_loss: 0.4811 - val_acc: 0.7347\n",
      "Epoch 303/700\n",
      "193/193 [==============================] - 0s 70us/step - loss: 0.4927 - acc: 0.7927 - val_loss: 0.4808 - val_acc: 0.7347\n",
      "Epoch 304/700\n",
      "193/193 [==============================] - 0s 64us/step - loss: 0.4928 - acc: 0.7824 - val_loss: 0.4800 - val_acc: 0.7347\n",
      "Epoch 305/700\n",
      "193/193 [==============================] - 0s 66us/step - loss: 0.4965 - acc: 0.7876 - val_loss: 0.4788 - val_acc: 0.7347\n",
      "Epoch 306/700\n",
      "193/193 [==============================] - 0s 70us/step - loss: 0.4950 - acc: 0.7876 - val_loss: 0.4777 - val_acc: 0.7347\n",
      "Epoch 307/700\n",
      "193/193 [==============================] - 0s 73us/step - loss: 0.4953 - acc: 0.7876 - val_loss: 0.4770 - val_acc: 0.7347\n",
      "Epoch 308/700\n",
      "193/193 [==============================] - 0s 68us/step - loss: 0.5042 - acc: 0.7772 - val_loss: 0.4783 - val_acc: 0.7347\n",
      "Epoch 309/700\n",
      "193/193 [==============================] - 0s 67us/step - loss: 0.4893 - acc: 0.7824 - val_loss: 0.4792 - val_acc: 0.7347\n",
      "Epoch 310/700\n",
      "193/193 [==============================] - 0s 66us/step - loss: 0.4841 - acc: 0.7979 - val_loss: 0.4803 - val_acc: 0.7347\n",
      "Epoch 311/700\n",
      "193/193 [==============================] - 0s 67us/step - loss: 0.4885 - acc: 0.7927 - val_loss: 0.4800 - val_acc: 0.7347\n",
      "Epoch 312/700\n",
      "193/193 [==============================] - 0s 64us/step - loss: 0.4862 - acc: 0.7927 - val_loss: 0.4787 - val_acc: 0.7347\n",
      "Epoch 313/700\n",
      "193/193 [==============================] - 0s 69us/step - loss: 0.4857 - acc: 0.7772 - val_loss: 0.4782 - val_acc: 0.7347\n",
      "Epoch 314/700\n",
      "193/193 [==============================] - 0s 66us/step - loss: 0.4832 - acc: 0.7979 - val_loss: 0.4778 - val_acc: 0.7347\n",
      "Epoch 315/700\n",
      "193/193 [==============================] - 0s 64us/step - loss: 0.4900 - acc: 0.7824 - val_loss: 0.4780 - val_acc: 0.7347\n",
      "Epoch 316/700\n",
      "193/193 [==============================] - 0s 66us/step - loss: 0.4956 - acc: 0.7927 - val_loss: 0.4791 - val_acc: 0.7347\n",
      "Epoch 317/700\n",
      "193/193 [==============================] - 0s 66us/step - loss: 0.4830 - acc: 0.7979 - val_loss: 0.4811 - val_acc: 0.7347\n",
      "Epoch 318/700\n",
      "193/193 [==============================] - 0s 68us/step - loss: 0.4895 - acc: 0.7772 - val_loss: 0.4818 - val_acc: 0.7347\n",
      "Epoch 319/700\n",
      "193/193 [==============================] - 0s 67us/step - loss: 0.4884 - acc: 0.7772 - val_loss: 0.4805 - val_acc: 0.7347\n",
      "Epoch 320/700\n",
      "193/193 [==============================] - 0s 67us/step - loss: 0.4853 - acc: 0.7824 - val_loss: 0.4794 - val_acc: 0.7347\n",
      "Epoch 321/700\n",
      "193/193 [==============================] - 0s 61us/step - loss: 0.4922 - acc: 0.7720 - val_loss: 0.4763 - val_acc: 0.7347\n",
      "Epoch 322/700\n",
      "193/193 [==============================] - 0s 68us/step - loss: 0.4845 - acc: 0.7876 - val_loss: 0.4737 - val_acc: 0.7347\n",
      "Epoch 323/700\n",
      "193/193 [==============================] - 0s 68us/step - loss: 0.4742 - acc: 0.7927 - val_loss: 0.4721 - val_acc: 0.7347\n",
      "Epoch 324/700\n",
      "193/193 [==============================] - 0s 69us/step - loss: 0.4702 - acc: 0.7979 - val_loss: 0.4706 - val_acc: 0.7347\n",
      "Epoch 325/700\n",
      "193/193 [==============================] - 0s 66us/step - loss: 0.4788 - acc: 0.7876 - val_loss: 0.4706 - val_acc: 0.7347\n",
      "Epoch 326/700\n",
      "193/193 [==============================] - 0s 67us/step - loss: 0.4824 - acc: 0.7927 - val_loss: 0.4712 - val_acc: 0.7347\n",
      "Epoch 327/700\n",
      "193/193 [==============================] - 0s 62us/step - loss: 0.4815 - acc: 0.7979 - val_loss: 0.4715 - val_acc: 0.7347\n",
      "Epoch 328/700\n",
      "193/193 [==============================] - 0s 66us/step - loss: 0.4929 - acc: 0.7876 - val_loss: 0.4722 - val_acc: 0.7347\n",
      "Epoch 329/700\n",
      "193/193 [==============================] - 0s 68us/step - loss: 0.4777 - acc: 0.8031 - val_loss: 0.4727 - val_acc: 0.7347\n",
      "Epoch 330/700\n",
      "193/193 [==============================] - 0s 64us/step - loss: 0.4813 - acc: 0.7927 - val_loss: 0.4735 - val_acc: 0.7347\n",
      "Epoch 331/700\n",
      "193/193 [==============================] - 0s 65us/step - loss: 0.4836 - acc: 0.7927 - val_loss: 0.4742 - val_acc: 0.7347\n",
      "Epoch 332/700\n",
      "193/193 [==============================] - 0s 66us/step - loss: 0.4771 - acc: 0.8031 - val_loss: 0.4743 - val_acc: 0.7347\n",
      "Epoch 333/700\n",
      "193/193 [==============================] - 0s 65us/step - loss: 0.4853 - acc: 0.7927 - val_loss: 0.4747 - val_acc: 0.7347\n",
      "Epoch 334/700\n",
      "193/193 [==============================] - 0s 66us/step - loss: 0.4749 - acc: 0.7824 - val_loss: 0.4750 - val_acc: 0.7347\n",
      "Epoch 335/700\n",
      "193/193 [==============================] - 0s 65us/step - loss: 0.4777 - acc: 0.7876 - val_loss: 0.4741 - val_acc: 0.7347\n",
      "Epoch 336/700\n",
      "193/193 [==============================] - 0s 69us/step - loss: 0.4794 - acc: 0.7979 - val_loss: 0.4731 - val_acc: 0.7347\n",
      "Epoch 337/700\n",
      "193/193 [==============================] - 0s 64us/step - loss: 0.4736 - acc: 0.7927 - val_loss: 0.4716 - val_acc: 0.7347\n",
      "Epoch 338/700\n",
      "193/193 [==============================] - 0s 70us/step - loss: 0.4825 - acc: 0.7979 - val_loss: 0.4697 - val_acc: 0.7347\n",
      "Epoch 339/700\n",
      "193/193 [==============================] - 0s 64us/step - loss: 0.4790 - acc: 0.7876 - val_loss: 0.4681 - val_acc: 0.7347\n",
      "Epoch 340/700\n",
      "193/193 [==============================] - 0s 65us/step - loss: 0.4679 - acc: 0.8031 - val_loss: 0.4681 - val_acc: 0.7347\n",
      "Epoch 341/700\n",
      "193/193 [==============================] - 0s 67us/step - loss: 0.4811 - acc: 0.7824 - val_loss: 0.4678 - val_acc: 0.7347\n",
      "Epoch 342/700\n",
      "193/193 [==============================] - 0s 66us/step - loss: 0.4780 - acc: 0.7824 - val_loss: 0.4681 - val_acc: 0.7347\n",
      "Epoch 343/700\n",
      "193/193 [==============================] - 0s 66us/step - loss: 0.4784 - acc: 0.7927 - val_loss: 0.4675 - val_acc: 0.7347\n",
      "Epoch 344/700\n",
      "193/193 [==============================] - 0s 66us/step - loss: 0.4741 - acc: 0.7927 - val_loss: 0.4674 - val_acc: 0.7347\n",
      "Epoch 345/700\n",
      "193/193 [==============================] - 0s 64us/step - loss: 0.4665 - acc: 0.7979 - val_loss: 0.4666 - val_acc: 0.7347\n",
      "Epoch 346/700\n",
      "193/193 [==============================] - 0s 64us/step - loss: 0.4684 - acc: 0.7927 - val_loss: 0.4665 - val_acc: 0.7347\n",
      "Epoch 347/700\n",
      "193/193 [==============================] - 0s 64us/step - loss: 0.4652 - acc: 0.8031 - val_loss: 0.4659 - val_acc: 0.7347\n",
      "Epoch 348/700\n",
      "193/193 [==============================] - 0s 67us/step - loss: 0.4716 - acc: 0.7927 - val_loss: 0.4656 - val_acc: 0.7347\n",
      "Epoch 349/700\n",
      "193/193 [==============================] - 0s 68us/step - loss: 0.4744 - acc: 0.7979 - val_loss: 0.4654 - val_acc: 0.7347\n",
      "Epoch 350/700\n",
      "193/193 [==============================] - 0s 65us/step - loss: 0.4701 - acc: 0.7876 - val_loss: 0.4656 - val_acc: 0.7347\n",
      "Epoch 351/700\n",
      "193/193 [==============================] - 0s 70us/step - loss: 0.4749 - acc: 0.7979 - val_loss: 0.4653 - val_acc: 0.7347\n",
      "Epoch 352/700\n",
      "193/193 [==============================] - 0s 63us/step - loss: 0.4644 - acc: 0.7927 - val_loss: 0.4657 - val_acc: 0.7347\n",
      "Epoch 353/700\n",
      "193/193 [==============================] - 0s 63us/step - loss: 0.4749 - acc: 0.8031 - val_loss: 0.4661 - val_acc: 0.7347\n",
      "Epoch 354/700\n",
      "193/193 [==============================] - 0s 65us/step - loss: 0.4674 - acc: 0.7876 - val_loss: 0.4663 - val_acc: 0.7347\n",
      "Epoch 355/700\n",
      "193/193 [==============================] - 0s 64us/step - loss: 0.4688 - acc: 0.7927 - val_loss: 0.4659 - val_acc: 0.7347\n",
      "Epoch 356/700\n",
      "193/193 [==============================] - 0s 66us/step - loss: 0.4804 - acc: 0.7927 - val_loss: 0.4651 - val_acc: 0.7347\n",
      "Epoch 357/700\n",
      "193/193 [==============================] - 0s 62us/step - loss: 0.4765 - acc: 0.7979 - val_loss: 0.4646 - val_acc: 0.7347\n",
      "Epoch 358/700\n",
      "193/193 [==============================] - 0s 66us/step - loss: 0.4696 - acc: 0.7979 - val_loss: 0.4642 - val_acc: 0.7347\n",
      "Epoch 359/700\n",
      "193/193 [==============================] - 0s 66us/step - loss: 0.4739 - acc: 0.7927 - val_loss: 0.4643 - val_acc: 0.7347\n",
      "Epoch 360/700\n",
      "193/193 [==============================] - 0s 66us/step - loss: 0.4735 - acc: 0.7876 - val_loss: 0.4646 - val_acc: 0.7347\n",
      "Epoch 361/700\n"
     ]
    },
    {
     "name": "stdout",
     "output_type": "stream",
     "text": [
      "193/193 [==============================] - 0s 66us/step - loss: 0.4699 - acc: 0.7979 - val_loss: 0.4651 - val_acc: 0.7347\n",
      "Epoch 362/700\n",
      "193/193 [==============================] - 0s 63us/step - loss: 0.4650 - acc: 0.7979 - val_loss: 0.4663 - val_acc: 0.7347\n",
      "Epoch 363/700\n",
      "193/193 [==============================] - 0s 66us/step - loss: 0.4682 - acc: 0.7979 - val_loss: 0.4667 - val_acc: 0.7347\n",
      "Epoch 364/700\n",
      "193/193 [==============================] - 0s 70us/step - loss: 0.4697 - acc: 0.7979 - val_loss: 0.4663 - val_acc: 0.7347\n",
      "Epoch 365/700\n",
      "193/193 [==============================] - 0s 67us/step - loss: 0.4649 - acc: 0.7876 - val_loss: 0.4649 - val_acc: 0.7347\n",
      "Epoch 366/700\n",
      "193/193 [==============================] - 0s 69us/step - loss: 0.4630 - acc: 0.7927 - val_loss: 0.4633 - val_acc: 0.7347\n",
      "Epoch 367/700\n",
      "193/193 [==============================] - 0s 83us/step - loss: 0.4601 - acc: 0.8083 - val_loss: 0.4605 - val_acc: 0.7347\n",
      "Epoch 368/700\n",
      "193/193 [==============================] - 0s 69us/step - loss: 0.4644 - acc: 0.7876 - val_loss: 0.4581 - val_acc: 0.7551\n",
      "Epoch 369/700\n",
      "193/193 [==============================] - 0s 69us/step - loss: 0.4603 - acc: 0.8083 - val_loss: 0.4567 - val_acc: 0.7551\n",
      "Epoch 370/700\n",
      "193/193 [==============================] - 0s 67us/step - loss: 0.4542 - acc: 0.8083 - val_loss: 0.4563 - val_acc: 0.7551\n",
      "Epoch 371/700\n",
      "193/193 [==============================] - 0s 70us/step - loss: 0.4643 - acc: 0.7979 - val_loss: 0.4569 - val_acc: 0.7551\n",
      "Epoch 372/700\n",
      "193/193 [==============================] - 0s 71us/step - loss: 0.4593 - acc: 0.8083 - val_loss: 0.4591 - val_acc: 0.7347\n",
      "Epoch 373/700\n",
      "193/193 [==============================] - 0s 68us/step - loss: 0.4780 - acc: 0.7772 - val_loss: 0.4602 - val_acc: 0.7347\n",
      "Epoch 374/700\n",
      "193/193 [==============================] - 0s 66us/step - loss: 0.4607 - acc: 0.8031 - val_loss: 0.4612 - val_acc: 0.7347\n",
      "Epoch 375/700\n",
      "193/193 [==============================] - 0s 70us/step - loss: 0.4737 - acc: 0.7772 - val_loss: 0.4627 - val_acc: 0.7347\n",
      "Epoch 376/700\n",
      "193/193 [==============================] - 0s 69us/step - loss: 0.4558 - acc: 0.7979 - val_loss: 0.4625 - val_acc: 0.7347\n",
      "Epoch 377/700\n",
      "193/193 [==============================] - 0s 68us/step - loss: 0.4607 - acc: 0.8031 - val_loss: 0.4610 - val_acc: 0.7347\n",
      "Epoch 378/700\n",
      "193/193 [==============================] - 0s 73us/step - loss: 0.4699 - acc: 0.7927 - val_loss: 0.4605 - val_acc: 0.7347\n",
      "Epoch 379/700\n",
      "193/193 [==============================] - 0s 73us/step - loss: 0.4600 - acc: 0.8031 - val_loss: 0.4596 - val_acc: 0.7347\n",
      "Epoch 380/700\n",
      "193/193 [==============================] - 0s 69us/step - loss: 0.4570 - acc: 0.8031 - val_loss: 0.4596 - val_acc: 0.7347\n",
      "Epoch 381/700\n",
      "193/193 [==============================] - 0s 72us/step - loss: 0.4547 - acc: 0.8031 - val_loss: 0.4590 - val_acc: 0.7347\n",
      "Epoch 382/700\n",
      "193/193 [==============================] - 0s 67us/step - loss: 0.4640 - acc: 0.7927 - val_loss: 0.4577 - val_acc: 0.7347\n",
      "Epoch 383/700\n",
      "193/193 [==============================] - 0s 73us/step - loss: 0.4467 - acc: 0.8135 - val_loss: 0.4571 - val_acc: 0.7347\n",
      "Epoch 384/700\n",
      "193/193 [==============================] - 0s 68us/step - loss: 0.4537 - acc: 0.8083 - val_loss: 0.4567 - val_acc: 0.7347\n",
      "Epoch 385/700\n",
      "193/193 [==============================] - 0s 70us/step - loss: 0.4618 - acc: 0.8083 - val_loss: 0.4561 - val_acc: 0.7551\n",
      "Epoch 386/700\n",
      "193/193 [==============================] - 0s 70us/step - loss: 0.4575 - acc: 0.8031 - val_loss: 0.4554 - val_acc: 0.7551\n",
      "Epoch 387/700\n",
      "193/193 [==============================] - 0s 69us/step - loss: 0.4549 - acc: 0.8083 - val_loss: 0.4546 - val_acc: 0.7551\n",
      "Epoch 388/700\n",
      "193/193 [==============================] - 0s 71us/step - loss: 0.4584 - acc: 0.8031 - val_loss: 0.4556 - val_acc: 0.7347\n",
      "Epoch 389/700\n",
      "193/193 [==============================] - 0s 68us/step - loss: 0.4615 - acc: 0.7927 - val_loss: 0.4572 - val_acc: 0.7347\n",
      "Epoch 390/700\n",
      "193/193 [==============================] - 0s 71us/step - loss: 0.4506 - acc: 0.8031 - val_loss: 0.4575 - val_acc: 0.7347\n",
      "Epoch 391/700\n",
      "193/193 [==============================] - 0s 65us/step - loss: 0.4643 - acc: 0.7824 - val_loss: 0.4582 - val_acc: 0.7347\n",
      "Epoch 392/700\n",
      "193/193 [==============================] - 0s 67us/step - loss: 0.4521 - acc: 0.8083 - val_loss: 0.4592 - val_acc: 0.7347\n",
      "Epoch 393/700\n",
      "193/193 [==============================] - 0s 68us/step - loss: 0.4509 - acc: 0.8083 - val_loss: 0.4590 - val_acc: 0.7347\n",
      "Epoch 394/700\n",
      "193/193 [==============================] - 0s 67us/step - loss: 0.4520 - acc: 0.7927 - val_loss: 0.4582 - val_acc: 0.7347\n",
      "Epoch 395/700\n",
      "193/193 [==============================] - 0s 67us/step - loss: 0.4629 - acc: 0.7927 - val_loss: 0.4563 - val_acc: 0.7347\n",
      "Epoch 396/700\n",
      "193/193 [==============================] - 0s 67us/step - loss: 0.4427 - acc: 0.8031 - val_loss: 0.4539 - val_acc: 0.7551\n",
      "Epoch 397/700\n",
      "193/193 [==============================] - 0s 67us/step - loss: 0.4573 - acc: 0.7927 - val_loss: 0.4533 - val_acc: 0.7551\n",
      "Epoch 398/700\n",
      "193/193 [==============================] - 0s 67us/step - loss: 0.4593 - acc: 0.8083 - val_loss: 0.4522 - val_acc: 0.7551\n",
      "Epoch 399/700\n",
      "193/193 [==============================] - 0s 68us/step - loss: 0.4552 - acc: 0.7927 - val_loss: 0.4523 - val_acc: 0.7551\n",
      "Epoch 400/700\n",
      "193/193 [==============================] - 0s 69us/step - loss: 0.4465 - acc: 0.8031 - val_loss: 0.4526 - val_acc: 0.7551\n",
      "Epoch 401/700\n",
      "193/193 [==============================] - 0s 68us/step - loss: 0.4434 - acc: 0.8083 - val_loss: 0.4538 - val_acc: 0.7347\n",
      "Epoch 402/700\n",
      "193/193 [==============================] - 0s 70us/step - loss: 0.4563 - acc: 0.8135 - val_loss: 0.4541 - val_acc: 0.7347\n",
      "Epoch 403/700\n",
      "193/193 [==============================] - 0s 67us/step - loss: 0.4665 - acc: 0.7979 - val_loss: 0.4541 - val_acc: 0.7347\n",
      "Epoch 404/700\n",
      "193/193 [==============================] - 0s 68us/step - loss: 0.4440 - acc: 0.8083 - val_loss: 0.4532 - val_acc: 0.7347\n",
      "Epoch 405/700\n",
      "193/193 [==============================] - 0s 68us/step - loss: 0.4556 - acc: 0.8031 - val_loss: 0.4518 - val_acc: 0.7551\n",
      "Epoch 406/700\n",
      "193/193 [==============================] - 0s 68us/step - loss: 0.4476 - acc: 0.8135 - val_loss: 0.4503 - val_acc: 0.7755\n",
      "Epoch 407/700\n",
      "193/193 [==============================] - 0s 68us/step - loss: 0.4547 - acc: 0.8031 - val_loss: 0.4488 - val_acc: 0.7755\n",
      "Epoch 408/700\n",
      "193/193 [==============================] - 0s 65us/step - loss: 0.4480 - acc: 0.8083 - val_loss: 0.4485 - val_acc: 0.7755\n",
      "Epoch 409/700\n",
      "193/193 [==============================] - 0s 67us/step - loss: 0.4473 - acc: 0.8031 - val_loss: 0.4486 - val_acc: 0.7755\n",
      "Epoch 410/700\n",
      "193/193 [==============================] - 0s 69us/step - loss: 0.4592 - acc: 0.7927 - val_loss: 0.4491 - val_acc: 0.7755\n",
      "Epoch 411/700\n",
      "193/193 [==============================] - 0s 68us/step - loss: 0.4471 - acc: 0.8135 - val_loss: 0.4483 - val_acc: 0.7755\n",
      "Epoch 412/700\n",
      "193/193 [==============================] - 0s 68us/step - loss: 0.4481 - acc: 0.8135 - val_loss: 0.4483 - val_acc: 0.7755\n",
      "Epoch 413/700\n",
      "193/193 [==============================] - 0s 70us/step - loss: 0.4535 - acc: 0.8083 - val_loss: 0.4489 - val_acc: 0.7755\n",
      "Epoch 414/700\n",
      "193/193 [==============================] - 0s 67us/step - loss: 0.4452 - acc: 0.8135 - val_loss: 0.4510 - val_acc: 0.7551\n",
      "Epoch 415/700\n",
      "193/193 [==============================] - 0s 65us/step - loss: 0.4484 - acc: 0.8083 - val_loss: 0.4513 - val_acc: 0.7551\n",
      "Epoch 416/700\n",
      "193/193 [==============================] - 0s 65us/step - loss: 0.4342 - acc: 0.8135 - val_loss: 0.4508 - val_acc: 0.7755\n",
      "Epoch 417/700\n",
      "193/193 [==============================] - 0s 67us/step - loss: 0.4349 - acc: 0.8238 - val_loss: 0.4501 - val_acc: 0.7755\n",
      "Epoch 418/700\n",
      "193/193 [==============================] - 0s 70us/step - loss: 0.4391 - acc: 0.8083 - val_loss: 0.4484 - val_acc: 0.7755\n",
      "Epoch 419/700\n",
      "193/193 [==============================] - 0s 65us/step - loss: 0.4446 - acc: 0.8135 - val_loss: 0.4469 - val_acc: 0.7755\n",
      "Epoch 420/700\n",
      "193/193 [==============================] - 0s 64us/step - loss: 0.4434 - acc: 0.8135 - val_loss: 0.4463 - val_acc: 0.7755\n",
      "Epoch 421/700\n"
     ]
    },
    {
     "name": "stdout",
     "output_type": "stream",
     "text": [
      "193/193 [==============================] - 0s 65us/step - loss: 0.4565 - acc: 0.8031 - val_loss: 0.4459 - val_acc: 0.7755\n",
      "Epoch 422/700\n",
      "193/193 [==============================] - 0s 62us/step - loss: 0.4520 - acc: 0.7927 - val_loss: 0.4455 - val_acc: 0.7755\n",
      "Epoch 423/700\n",
      "193/193 [==============================] - 0s 68us/step - loss: 0.4571 - acc: 0.8187 - val_loss: 0.4460 - val_acc: 0.7755\n",
      "Epoch 424/700\n",
      "193/193 [==============================] - 0s 64us/step - loss: 0.4481 - acc: 0.8187 - val_loss: 0.4461 - val_acc: 0.7755\n",
      "Epoch 425/700\n",
      "193/193 [==============================] - 0s 73us/step - loss: 0.4508 - acc: 0.8083 - val_loss: 0.4473 - val_acc: 0.7755\n",
      "Epoch 426/700\n",
      "193/193 [==============================] - 0s 70us/step - loss: 0.4349 - acc: 0.8135 - val_loss: 0.4477 - val_acc: 0.7755\n",
      "Epoch 427/700\n",
      "193/193 [==============================] - 0s 68us/step - loss: 0.4460 - acc: 0.8083 - val_loss: 0.4472 - val_acc: 0.7755\n",
      "Epoch 428/700\n",
      "193/193 [==============================] - 0s 67us/step - loss: 0.4421 - acc: 0.8135 - val_loss: 0.4470 - val_acc: 0.7755\n",
      "Epoch 429/700\n",
      "193/193 [==============================] - 0s 76us/step - loss: 0.4293 - acc: 0.8187 - val_loss: 0.4466 - val_acc: 0.7755\n",
      "Epoch 430/700\n",
      "193/193 [==============================] - 0s 75us/step - loss: 0.4455 - acc: 0.8031 - val_loss: 0.4457 - val_acc: 0.7755\n",
      "Epoch 431/700\n",
      "193/193 [==============================] - 0s 76us/step - loss: 0.4340 - acc: 0.8083 - val_loss: 0.4444 - val_acc: 0.7755\n",
      "Epoch 432/700\n",
      "193/193 [==============================] - 0s 71us/step - loss: 0.4358 - acc: 0.8238 - val_loss: 0.4449 - val_acc: 0.7755\n",
      "Epoch 433/700\n",
      "193/193 [==============================] - 0s 72us/step - loss: 0.4388 - acc: 0.8135 - val_loss: 0.4452 - val_acc: 0.7755\n",
      "Epoch 434/700\n",
      "193/193 [==============================] - 0s 77us/step - loss: 0.4428 - acc: 0.7979 - val_loss: 0.4447 - val_acc: 0.7755\n",
      "Epoch 435/700\n",
      "193/193 [==============================] - 0s 72us/step - loss: 0.4413 - acc: 0.8135 - val_loss: 0.4450 - val_acc: 0.7755\n",
      "Epoch 436/700\n",
      "193/193 [==============================] - 0s 74us/step - loss: 0.4410 - acc: 0.8135 - val_loss: 0.4463 - val_acc: 0.7755\n",
      "Epoch 437/700\n",
      "193/193 [==============================] - 0s 78us/step - loss: 0.4461 - acc: 0.8031 - val_loss: 0.4473 - val_acc: 0.7755\n",
      "Epoch 438/700\n",
      "193/193 [==============================] - 0s 78us/step - loss: 0.4454 - acc: 0.7979 - val_loss: 0.4469 - val_acc: 0.7755\n",
      "Epoch 439/700\n",
      "193/193 [==============================] - 0s 69us/step - loss: 0.4339 - acc: 0.8187 - val_loss: 0.4463 - val_acc: 0.7755\n",
      "Epoch 440/700\n",
      "193/193 [==============================] - 0s 76us/step - loss: 0.4337 - acc: 0.8290 - val_loss: 0.4444 - val_acc: 0.7755\n",
      "Epoch 441/700\n",
      "193/193 [==============================] - 0s 74us/step - loss: 0.4333 - acc: 0.8135 - val_loss: 0.4425 - val_acc: 0.7755\n",
      "Epoch 442/700\n",
      "193/193 [==============================] - 0s 74us/step - loss: 0.4369 - acc: 0.8135 - val_loss: 0.4421 - val_acc: 0.7755\n",
      "Epoch 443/700\n",
      "193/193 [==============================] - 0s 74us/step - loss: 0.4331 - acc: 0.8083 - val_loss: 0.4437 - val_acc: 0.7755\n",
      "Epoch 444/700\n",
      "193/193 [==============================] - 0s 78us/step - loss: 0.4387 - acc: 0.8083 - val_loss: 0.4437 - val_acc: 0.7755\n",
      "Epoch 445/700\n",
      "193/193 [==============================] - 0s 77us/step - loss: 0.4380 - acc: 0.8135 - val_loss: 0.4426 - val_acc: 0.7755\n",
      "Epoch 446/700\n",
      "193/193 [==============================] - 0s 73us/step - loss: 0.4354 - acc: 0.8083 - val_loss: 0.4421 - val_acc: 0.7755\n",
      "Epoch 447/700\n",
      "193/193 [==============================] - 0s 77us/step - loss: 0.4223 - acc: 0.8187 - val_loss: 0.4423 - val_acc: 0.7755\n",
      "Epoch 448/700\n",
      "193/193 [==============================] - 0s 73us/step - loss: 0.4343 - acc: 0.8083 - val_loss: 0.4418 - val_acc: 0.7755\n",
      "Epoch 449/700\n",
      "193/193 [==============================] - 0s 72us/step - loss: 0.4282 - acc: 0.8238 - val_loss: 0.4406 - val_acc: 0.7755\n",
      "Epoch 450/700\n",
      "193/193 [==============================] - 0s 75us/step - loss: 0.4369 - acc: 0.8238 - val_loss: 0.4386 - val_acc: 0.7959\n",
      "Epoch 451/700\n",
      "193/193 [==============================] - 0s 72us/step - loss: 0.4289 - acc: 0.8135 - val_loss: 0.4377 - val_acc: 0.7959\n",
      "Epoch 452/700\n",
      "193/193 [==============================] - 0s 71us/step - loss: 0.4268 - acc: 0.8187 - val_loss: 0.4382 - val_acc: 0.7959\n",
      "Epoch 453/700\n",
      "193/193 [==============================] - 0s 66us/step - loss: 0.4354 - acc: 0.8031 - val_loss: 0.4391 - val_acc: 0.7755\n",
      "Epoch 454/700\n",
      "193/193 [==============================] - 0s 70us/step - loss: 0.4274 - acc: 0.8135 - val_loss: 0.4398 - val_acc: 0.7755\n",
      "Epoch 455/700\n",
      "193/193 [==============================] - 0s 71us/step - loss: 0.4274 - acc: 0.8083 - val_loss: 0.4392 - val_acc: 0.7755\n",
      "Epoch 456/700\n",
      "193/193 [==============================] - 0s 71us/step - loss: 0.4237 - acc: 0.8238 - val_loss: 0.4384 - val_acc: 0.7755\n",
      "Epoch 457/700\n",
      "193/193 [==============================] - 0s 74us/step - loss: 0.4338 - acc: 0.8083 - val_loss: 0.4395 - val_acc: 0.7755\n",
      "Epoch 458/700\n",
      "193/193 [==============================] - 0s 69us/step - loss: 0.4255 - acc: 0.8187 - val_loss: 0.4397 - val_acc: 0.7755\n",
      "Epoch 459/700\n",
      "193/193 [==============================] - 0s 65us/step - loss: 0.4319 - acc: 0.8031 - val_loss: 0.4390 - val_acc: 0.7755\n",
      "Epoch 460/700\n",
      "193/193 [==============================] - 0s 75us/step - loss: 0.4374 - acc: 0.7979 - val_loss: 0.4373 - val_acc: 0.7959\n",
      "Epoch 461/700\n",
      "193/193 [==============================] - ETA: 0s - loss: 0.4179 - acc: 0.818 - 0s 68us/step - loss: 0.4333 - acc: 0.8135 - val_loss: 0.4356 - val_acc: 0.7959\n",
      "Epoch 462/700\n",
      "193/193 [==============================] - 0s 73us/step - loss: 0.4258 - acc: 0.8238 - val_loss: 0.4341 - val_acc: 0.7959\n",
      "Epoch 463/700\n",
      "193/193 [==============================] - 0s 69us/step - loss: 0.4230 - acc: 0.8135 - val_loss: 0.4329 - val_acc: 0.7959\n",
      "Epoch 464/700\n",
      "193/193 [==============================] - 0s 75us/step - loss: 0.4342 - acc: 0.8031 - val_loss: 0.4329 - val_acc: 0.7959\n",
      "Epoch 465/700\n",
      "193/193 [==============================] - 0s 75us/step - loss: 0.4290 - acc: 0.8135 - val_loss: 0.4334 - val_acc: 0.7959\n",
      "Epoch 466/700\n",
      "193/193 [==============================] - 0s 70us/step - loss: 0.4306 - acc: 0.7979 - val_loss: 0.4359 - val_acc: 0.7959\n",
      "Epoch 467/700\n",
      "193/193 [==============================] - 0s 74us/step - loss: 0.4117 - acc: 0.8135 - val_loss: 0.4376 - val_acc: 0.7755\n",
      "Epoch 468/700\n",
      "193/193 [==============================] - 0s 68us/step - loss: 0.4252 - acc: 0.8083 - val_loss: 0.4405 - val_acc: 0.7959\n",
      "Epoch 469/700\n",
      "193/193 [==============================] - 0s 66us/step - loss: 0.4243 - acc: 0.8290 - val_loss: 0.4422 - val_acc: 0.7755\n",
      "Epoch 470/700\n",
      "193/193 [==============================] - 0s 71us/step - loss: 0.4180 - acc: 0.8135 - val_loss: 0.4415 - val_acc: 0.7755\n",
      "Epoch 471/700\n",
      "193/193 [==============================] - 0s 66us/step - loss: 0.4254 - acc: 0.8135 - val_loss: 0.4386 - val_acc: 0.7755\n",
      "Epoch 472/700\n",
      "193/193 [==============================] - 0s 71us/step - loss: 0.4227 - acc: 0.8342 - val_loss: 0.4344 - val_acc: 0.7959\n",
      "Epoch 473/700\n",
      "193/193 [==============================] - 0s 67us/step - loss: 0.4219 - acc: 0.8135 - val_loss: 0.4322 - val_acc: 0.7959\n",
      "Epoch 474/700\n",
      "193/193 [==============================] - 0s 64us/step - loss: 0.4306 - acc: 0.8187 - val_loss: 0.4318 - val_acc: 0.7959\n",
      "Epoch 475/700\n",
      "193/193 [==============================] - 0s 64us/step - loss: 0.4172 - acc: 0.8135 - val_loss: 0.4337 - val_acc: 0.7959\n",
      "Epoch 476/700\n",
      "193/193 [==============================] - 0s 65us/step - loss: 0.4314 - acc: 0.8187 - val_loss: 0.4356 - val_acc: 0.7959\n",
      "Epoch 477/700\n",
      "193/193 [==============================] - 0s 66us/step - loss: 0.4252 - acc: 0.8238 - val_loss: 0.4365 - val_acc: 0.7959\n",
      "Epoch 478/700\n",
      "193/193 [==============================] - 0s 64us/step - loss: 0.4163 - acc: 0.8238 - val_loss: 0.4371 - val_acc: 0.7755\n",
      "Epoch 479/700\n",
      "193/193 [==============================] - 0s 64us/step - loss: 0.4208 - acc: 0.8187 - val_loss: 0.4358 - val_acc: 0.8163\n",
      "Epoch 480/700\n",
      "193/193 [==============================] - 0s 66us/step - loss: 0.4148 - acc: 0.8290 - val_loss: 0.4345 - val_acc: 0.7959\n",
      "Epoch 481/700\n"
     ]
    },
    {
     "name": "stdout",
     "output_type": "stream",
     "text": [
      "193/193 [==============================] - 0s 64us/step - loss: 0.4300 - acc: 0.8083 - val_loss: 0.4356 - val_acc: 0.7959\n",
      "Epoch 482/700\n",
      "193/193 [==============================] - 0s 64us/step - loss: 0.4131 - acc: 0.8290 - val_loss: 0.4341 - val_acc: 0.7959\n",
      "Epoch 483/700\n",
      "193/193 [==============================] - 0s 61us/step - loss: 0.4183 - acc: 0.8342 - val_loss: 0.4327 - val_acc: 0.7959\n",
      "Epoch 484/700\n",
      "193/193 [==============================] - 0s 70us/step - loss: 0.4230 - acc: 0.8187 - val_loss: 0.4320 - val_acc: 0.7959\n",
      "Epoch 485/700\n",
      "193/193 [==============================] - 0s 66us/step - loss: 0.4303 - acc: 0.8187 - val_loss: 0.4331 - val_acc: 0.7755\n",
      "Epoch 486/700\n",
      "193/193 [==============================] - 0s 69us/step - loss: 0.4193 - acc: 0.8394 - val_loss: 0.4334 - val_acc: 0.7959\n",
      "Epoch 487/700\n",
      "193/193 [==============================] - 0s 73us/step - loss: 0.4198 - acc: 0.8187 - val_loss: 0.4341 - val_acc: 0.7959\n",
      "Epoch 488/700\n",
      "193/193 [==============================] - 0s 69us/step - loss: 0.4142 - acc: 0.8238 - val_loss: 0.4331 - val_acc: 0.7959\n",
      "Epoch 489/700\n",
      "193/193 [==============================] - 0s 72us/step - loss: 0.4086 - acc: 0.8290 - val_loss: 0.4319 - val_acc: 0.7959\n",
      "Epoch 490/700\n",
      "193/193 [==============================] - 0s 72us/step - loss: 0.4195 - acc: 0.8238 - val_loss: 0.4311 - val_acc: 0.7755\n",
      "Epoch 491/700\n",
      "193/193 [==============================] - 0s 71us/step - loss: 0.4177 - acc: 0.8290 - val_loss: 0.4314 - val_acc: 0.7959\n",
      "Epoch 492/700\n",
      "193/193 [==============================] - 0s 66us/step - loss: 0.4163 - acc: 0.8238 - val_loss: 0.4328 - val_acc: 0.7959\n",
      "Epoch 493/700\n",
      "193/193 [==============================] - 0s 67us/step - loss: 0.4084 - acc: 0.8342 - val_loss: 0.4335 - val_acc: 0.7959\n",
      "Epoch 494/700\n",
      "193/193 [==============================] - 0s 70us/step - loss: 0.4042 - acc: 0.8290 - val_loss: 0.4318 - val_acc: 0.7959\n",
      "Epoch 495/700\n",
      "193/193 [==============================] - 0s 74us/step - loss: 0.4145 - acc: 0.8187 - val_loss: 0.4298 - val_acc: 0.7959\n",
      "Epoch 496/700\n",
      "193/193 [==============================] - 0s 71us/step - loss: 0.4119 - acc: 0.8290 - val_loss: 0.4287 - val_acc: 0.7755\n",
      "Epoch 497/700\n",
      "193/193 [==============================] - 0s 69us/step - loss: 0.4284 - acc: 0.8238 - val_loss: 0.4281 - val_acc: 0.7959\n",
      "Epoch 498/700\n",
      "193/193 [==============================] - 0s 70us/step - loss: 0.4218 - acc: 0.8290 - val_loss: 0.4291 - val_acc: 0.7959\n",
      "Epoch 499/700\n",
      "193/193 [==============================] - 0s 73us/step - loss: 0.4082 - acc: 0.8290 - val_loss: 0.4302 - val_acc: 0.7959\n",
      "Epoch 500/700\n",
      "193/193 [==============================] - 0s 71us/step - loss: 0.4183 - acc: 0.8135 - val_loss: 0.4321 - val_acc: 0.7959\n",
      "Epoch 501/700\n",
      "193/193 [==============================] - 0s 72us/step - loss: 0.4104 - acc: 0.8290 - val_loss: 0.4334 - val_acc: 0.7959\n",
      "Epoch 502/700\n",
      "193/193 [==============================] - 0s 71us/step - loss: 0.4239 - acc: 0.8187 - val_loss: 0.4315 - val_acc: 0.7959\n",
      "Epoch 503/700\n",
      "193/193 [==============================] - 0s 70us/step - loss: 0.4085 - acc: 0.8135 - val_loss: 0.4305 - val_acc: 0.7959\n",
      "Epoch 504/700\n",
      "193/193 [==============================] - 0s 69us/step - loss: 0.4030 - acc: 0.8290 - val_loss: 0.4279 - val_acc: 0.8163\n",
      "Epoch 505/700\n",
      "193/193 [==============================] - 0s 73us/step - loss: 0.4106 - acc: 0.8290 - val_loss: 0.4253 - val_acc: 0.7959\n",
      "Epoch 506/700\n",
      "193/193 [==============================] - 0s 75us/step - loss: 0.4172 - acc: 0.8187 - val_loss: 0.4247 - val_acc: 0.7959\n",
      "Epoch 507/700\n",
      "193/193 [==============================] - 0s 69us/step - loss: 0.4036 - acc: 0.8238 - val_loss: 0.4252 - val_acc: 0.8163\n",
      "Epoch 508/700\n",
      "193/193 [==============================] - 0s 69us/step - loss: 0.4187 - acc: 0.8187 - val_loss: 0.4258 - val_acc: 0.8163\n",
      "Epoch 509/700\n",
      "193/193 [==============================] - 0s 68us/step - loss: 0.4138 - acc: 0.8238 - val_loss: 0.4258 - val_acc: 0.8163\n",
      "Epoch 510/700\n",
      "193/193 [==============================] - 0s 70us/step - loss: 0.3958 - acc: 0.8446 - val_loss: 0.4264 - val_acc: 0.8163\n",
      "Epoch 511/700\n",
      "193/193 [==============================] - 0s 69us/step - loss: 0.4129 - acc: 0.8238 - val_loss: 0.4273 - val_acc: 0.8163\n",
      "Epoch 512/700\n",
      "193/193 [==============================] - 0s 70us/step - loss: 0.4020 - acc: 0.8290 - val_loss: 0.4284 - val_acc: 0.8163\n",
      "Epoch 513/700\n",
      "193/193 [==============================] - 0s 68us/step - loss: 0.4052 - acc: 0.8394 - val_loss: 0.4286 - val_acc: 0.8163\n",
      "Epoch 514/700\n",
      "193/193 [==============================] - 0s 71us/step - loss: 0.4152 - acc: 0.8342 - val_loss: 0.4279 - val_acc: 0.8163\n",
      "Epoch 515/700\n",
      "193/193 [==============================] - 0s 70us/step - loss: 0.4138 - acc: 0.8290 - val_loss: 0.4276 - val_acc: 0.8163\n",
      "Epoch 516/700\n",
      "193/193 [==============================] - 0s 71us/step - loss: 0.4063 - acc: 0.8342 - val_loss: 0.4259 - val_acc: 0.8163\n",
      "Epoch 517/700\n",
      "193/193 [==============================] - 0s 74us/step - loss: 0.4039 - acc: 0.8187 - val_loss: 0.4245 - val_acc: 0.8163\n",
      "Epoch 518/700\n",
      "193/193 [==============================] - 0s 71us/step - loss: 0.4152 - acc: 0.8135 - val_loss: 0.4236 - val_acc: 0.8163\n",
      "Epoch 519/700\n",
      "193/193 [==============================] - 0s 68us/step - loss: 0.4023 - acc: 0.8238 - val_loss: 0.4227 - val_acc: 0.8163\n",
      "Epoch 520/700\n",
      "193/193 [==============================] - 0s 71us/step - loss: 0.3916 - acc: 0.8394 - val_loss: 0.4231 - val_acc: 0.8163\n",
      "Epoch 521/700\n",
      "193/193 [==============================] - 0s 69us/step - loss: 0.4064 - acc: 0.8342 - val_loss: 0.4249 - val_acc: 0.8163\n",
      "Epoch 522/700\n",
      "193/193 [==============================] - 0s 69us/step - loss: 0.4125 - acc: 0.8290 - val_loss: 0.4249 - val_acc: 0.8163\n",
      "Epoch 523/700\n",
      "193/193 [==============================] - 0s 64us/step - loss: 0.4068 - acc: 0.8290 - val_loss: 0.4257 - val_acc: 0.8163\n",
      "Epoch 524/700\n",
      "193/193 [==============================] - 0s 69us/step - loss: 0.4062 - acc: 0.8394 - val_loss: 0.4263 - val_acc: 0.8367\n",
      "Epoch 525/700\n",
      "193/193 [==============================] - 0s 70us/step - loss: 0.4008 - acc: 0.8342 - val_loss: 0.4242 - val_acc: 0.8163\n",
      "Epoch 526/700\n",
      "193/193 [==============================] - 0s 71us/step - loss: 0.4206 - acc: 0.8342 - val_loss: 0.4226 - val_acc: 0.8163\n",
      "Epoch 527/700\n",
      "193/193 [==============================] - 0s 69us/step - loss: 0.3958 - acc: 0.8446 - val_loss: 0.4213 - val_acc: 0.8163\n",
      "Epoch 528/700\n",
      "193/193 [==============================] - 0s 70us/step - loss: 0.3982 - acc: 0.8290 - val_loss: 0.4210 - val_acc: 0.8163\n",
      "Epoch 529/700\n",
      "193/193 [==============================] - 0s 67us/step - loss: 0.3990 - acc: 0.8342 - val_loss: 0.4208 - val_acc: 0.8163\n",
      "Epoch 530/700\n",
      "193/193 [==============================] - 0s 68us/step - loss: 0.4038 - acc: 0.8290 - val_loss: 0.4209 - val_acc: 0.8163\n",
      "Epoch 531/700\n",
      "193/193 [==============================] - 0s 68us/step - loss: 0.4088 - acc: 0.8446 - val_loss: 0.4225 - val_acc: 0.8163\n",
      "Epoch 532/700\n",
      "193/193 [==============================] - 0s 69us/step - loss: 0.3991 - acc: 0.8342 - val_loss: 0.4222 - val_acc: 0.8163\n",
      "Epoch 533/700\n",
      "193/193 [==============================] - 0s 68us/step - loss: 0.3895 - acc: 0.8549 - val_loss: 0.4241 - val_acc: 0.8367\n",
      "Epoch 534/700\n",
      "193/193 [==============================] - 0s 67us/step - loss: 0.3986 - acc: 0.8394 - val_loss: 0.4231 - val_acc: 0.8367\n",
      "Epoch 535/700\n",
      "193/193 [==============================] - 0s 62us/step - loss: 0.3981 - acc: 0.8549 - val_loss: 0.4215 - val_acc: 0.8163\n",
      "Epoch 536/700\n",
      "193/193 [==============================] - 0s 65us/step - loss: 0.4012 - acc: 0.8394 - val_loss: 0.4225 - val_acc: 0.8367\n",
      "Epoch 537/700\n",
      "193/193 [==============================] - 0s 67us/step - loss: 0.3972 - acc: 0.8497 - val_loss: 0.4223 - val_acc: 0.8367\n",
      "Epoch 538/700\n",
      "193/193 [==============================] - 0s 67us/step - loss: 0.3977 - acc: 0.8497 - val_loss: 0.4221 - val_acc: 0.8367\n",
      "Epoch 539/700\n",
      "193/193 [==============================] - 0s 63us/step - loss: 0.4051 - acc: 0.8342 - val_loss: 0.4215 - val_acc: 0.8367\n",
      "Epoch 540/700\n",
      "193/193 [==============================] - 0s 61us/step - loss: 0.3930 - acc: 0.8497 - val_loss: 0.4209 - val_acc: 0.8367\n",
      "Epoch 541/700\n"
     ]
    },
    {
     "name": "stdout",
     "output_type": "stream",
     "text": [
      "193/193 [==============================] - 0s 65us/step - loss: 0.4007 - acc: 0.8394 - val_loss: 0.4234 - val_acc: 0.8367\n",
      "Epoch 542/700\n",
      "193/193 [==============================] - 0s 67us/step - loss: 0.3946 - acc: 0.8601 - val_loss: 0.4246 - val_acc: 0.8367\n",
      "Epoch 543/700\n",
      "193/193 [==============================] - 0s 69us/step - loss: 0.3988 - acc: 0.8497 - val_loss: 0.4258 - val_acc: 0.8367\n",
      "Epoch 544/700\n",
      "193/193 [==============================] - 0s 74us/step - loss: 0.3943 - acc: 0.8446 - val_loss: 0.4255 - val_acc: 0.8367\n",
      "Epoch 545/700\n",
      "193/193 [==============================] - 0s 70us/step - loss: 0.3948 - acc: 0.8497 - val_loss: 0.4242 - val_acc: 0.8367\n",
      "Epoch 546/700\n",
      "193/193 [==============================] - 0s 77us/step - loss: 0.3924 - acc: 0.8497 - val_loss: 0.4214 - val_acc: 0.8367\n",
      "Epoch 547/700\n",
      "193/193 [==============================] - 0s 73us/step - loss: 0.3918 - acc: 0.8497 - val_loss: 0.4190 - val_acc: 0.8367\n",
      "Epoch 548/700\n",
      "193/193 [==============================] - 0s 65us/step - loss: 0.3956 - acc: 0.8497 - val_loss: 0.4176 - val_acc: 0.8163\n",
      "Epoch 549/700\n",
      "193/193 [==============================] - 0s 71us/step - loss: 0.3895 - acc: 0.8549 - val_loss: 0.4163 - val_acc: 0.8163\n",
      "Epoch 550/700\n",
      "193/193 [==============================] - 0s 74us/step - loss: 0.3979 - acc: 0.8394 - val_loss: 0.4152 - val_acc: 0.8163\n",
      "Epoch 551/700\n",
      "193/193 [==============================] - 0s 73us/step - loss: 0.3930 - acc: 0.8446 - val_loss: 0.4151 - val_acc: 0.8163\n",
      "Epoch 552/700\n",
      "193/193 [==============================] - 0s 74us/step - loss: 0.3958 - acc: 0.8342 - val_loss: 0.4154 - val_acc: 0.8163\n",
      "Epoch 553/700\n",
      "193/193 [==============================] - 0s 71us/step - loss: 0.3926 - acc: 0.8446 - val_loss: 0.4163 - val_acc: 0.8163\n",
      "Epoch 554/700\n",
      "193/193 [==============================] - 0s 77us/step - loss: 0.3911 - acc: 0.8394 - val_loss: 0.4169 - val_acc: 0.8367\n",
      "Epoch 555/700\n",
      "193/193 [==============================] - 0s 75us/step - loss: 0.3989 - acc: 0.8446 - val_loss: 0.4180 - val_acc: 0.8367\n",
      "Epoch 556/700\n",
      "193/193 [==============================] - 0s 69us/step - loss: 0.4059 - acc: 0.8497 - val_loss: 0.4193 - val_acc: 0.8367\n",
      "Epoch 557/700\n",
      "193/193 [==============================] - 0s 70us/step - loss: 0.3970 - acc: 0.8446 - val_loss: 0.4194 - val_acc: 0.8367\n",
      "Epoch 558/700\n",
      "193/193 [==============================] - 0s 70us/step - loss: 0.3922 - acc: 0.8549 - val_loss: 0.4188 - val_acc: 0.8367\n",
      "Epoch 559/700\n",
      "193/193 [==============================] - 0s 73us/step - loss: 0.3951 - acc: 0.8446 - val_loss: 0.4202 - val_acc: 0.8367\n",
      "Epoch 560/700\n",
      "193/193 [==============================] - 0s 72us/step - loss: 0.4028 - acc: 0.8446 - val_loss: 0.4195 - val_acc: 0.8367\n",
      "Epoch 561/700\n",
      "193/193 [==============================] - 0s 69us/step - loss: 0.3895 - acc: 0.8601 - val_loss: 0.4184 - val_acc: 0.8367\n",
      "Epoch 562/700\n",
      "193/193 [==============================] - 0s 71us/step - loss: 0.4043 - acc: 0.8549 - val_loss: 0.4162 - val_acc: 0.8367\n",
      "Epoch 563/700\n",
      "193/193 [==============================] - 0s 72us/step - loss: 0.3849 - acc: 0.8549 - val_loss: 0.4152 - val_acc: 0.8367\n",
      "Epoch 564/700\n",
      "193/193 [==============================] - 0s 69us/step - loss: 0.3896 - acc: 0.8446 - val_loss: 0.4141 - val_acc: 0.8163\n",
      "Epoch 565/700\n",
      "193/193 [==============================] - 0s 68us/step - loss: 0.3904 - acc: 0.8497 - val_loss: 0.4143 - val_acc: 0.8367\n",
      "Epoch 566/700\n",
      "193/193 [==============================] - 0s 70us/step - loss: 0.3900 - acc: 0.8497 - val_loss: 0.4142 - val_acc: 0.8367\n",
      "Epoch 567/700\n",
      "193/193 [==============================] - 0s 70us/step - loss: 0.3917 - acc: 0.8446 - val_loss: 0.4150 - val_acc: 0.8367\n",
      "Epoch 568/700\n",
      "193/193 [==============================] - 0s 72us/step - loss: 0.3923 - acc: 0.8394 - val_loss: 0.4174 - val_acc: 0.8367\n",
      "Epoch 569/700\n",
      "193/193 [==============================] - 0s 72us/step - loss: 0.3936 - acc: 0.8446 - val_loss: 0.4183 - val_acc: 0.8367\n",
      "Epoch 570/700\n",
      "193/193 [==============================] - 0s 75us/step - loss: 0.3927 - acc: 0.8549 - val_loss: 0.4191 - val_acc: 0.8367\n",
      "Epoch 571/700\n",
      "193/193 [==============================] - 0s 66us/step - loss: 0.3879 - acc: 0.8497 - val_loss: 0.4192 - val_acc: 0.8367\n",
      "Epoch 572/700\n",
      "193/193 [==============================] - 0s 66us/step - loss: 0.3847 - acc: 0.8497 - val_loss: 0.4190 - val_acc: 0.8367\n",
      "Epoch 573/700\n",
      "193/193 [==============================] - 0s 73us/step - loss: 0.3924 - acc: 0.8394 - val_loss: 0.4191 - val_acc: 0.8367\n",
      "Epoch 574/700\n",
      "193/193 [==============================] - 0s 76us/step - loss: 0.3985 - acc: 0.8446 - val_loss: 0.4169 - val_acc: 0.8367\n",
      "Epoch 575/700\n",
      "193/193 [==============================] - 0s 71us/step - loss: 0.3973 - acc: 0.8497 - val_loss: 0.4143 - val_acc: 0.8367\n",
      "Epoch 576/700\n",
      "193/193 [==============================] - 0s 83us/step - loss: 0.3849 - acc: 0.8601 - val_loss: 0.4126 - val_acc: 0.8367\n",
      "Epoch 577/700\n",
      "193/193 [==============================] - 0s 81us/step - loss: 0.3894 - acc: 0.8446 - val_loss: 0.4118 - val_acc: 0.8367\n",
      "Epoch 578/700\n",
      "193/193 [==============================] - 0s 69us/step - loss: 0.3902 - acc: 0.8446 - val_loss: 0.4116 - val_acc: 0.8367\n",
      "Epoch 579/700\n",
      "193/193 [==============================] - 0s 76us/step - loss: 0.3857 - acc: 0.8446 - val_loss: 0.4135 - val_acc: 0.8367\n",
      "Epoch 580/700\n",
      "193/193 [==============================] - 0s 73us/step - loss: 0.3899 - acc: 0.8497 - val_loss: 0.4155 - val_acc: 0.8367\n",
      "Epoch 581/700\n",
      "193/193 [==============================] - 0s 74us/step - loss: 0.3832 - acc: 0.8497 - val_loss: 0.4191 - val_acc: 0.8367\n",
      "Epoch 582/700\n",
      "193/193 [==============================] - 0s 80us/step - loss: 0.3794 - acc: 0.8446 - val_loss: 0.4198 - val_acc: 0.8367\n",
      "Epoch 583/700\n",
      "193/193 [==============================] - 0s 72us/step - loss: 0.3890 - acc: 0.8497 - val_loss: 0.4185 - val_acc: 0.8367\n",
      "Epoch 584/700\n",
      "193/193 [==============================] - 0s 71us/step - loss: 0.3800 - acc: 0.8497 - val_loss: 0.4151 - val_acc: 0.8367\n",
      "Epoch 585/700\n",
      "193/193 [==============================] - 0s 75us/step - loss: 0.4005 - acc: 0.8497 - val_loss: 0.4133 - val_acc: 0.8367\n",
      "Epoch 586/700\n",
      "193/193 [==============================] - 0s 73us/step - loss: 0.3811 - acc: 0.8549 - val_loss: 0.4122 - val_acc: 0.8367\n",
      "Epoch 587/700\n",
      "193/193 [==============================] - 0s 71us/step - loss: 0.3825 - acc: 0.8549 - val_loss: 0.4122 - val_acc: 0.8367\n",
      "Epoch 588/700\n",
      "193/193 [==============================] - 0s 68us/step - loss: 0.3801 - acc: 0.8601 - val_loss: 0.4125 - val_acc: 0.8367\n",
      "Epoch 589/700\n",
      "193/193 [==============================] - 0s 66us/step - loss: 0.3894 - acc: 0.8497 - val_loss: 0.4122 - val_acc: 0.8367\n",
      "Epoch 590/700\n",
      "193/193 [==============================] - 0s 68us/step - loss: 0.3753 - acc: 0.8653 - val_loss: 0.4124 - val_acc: 0.8367\n",
      "Epoch 591/700\n",
      "193/193 [==============================] - 0s 68us/step - loss: 0.3781 - acc: 0.8549 - val_loss: 0.4129 - val_acc: 0.8367\n",
      "Epoch 592/700\n",
      "193/193 [==============================] - 0s 72us/step - loss: 0.3750 - acc: 0.8601 - val_loss: 0.4134 - val_acc: 0.8367\n",
      "Epoch 593/700\n",
      "193/193 [==============================] - 0s 69us/step - loss: 0.3681 - acc: 0.8653 - val_loss: 0.4130 - val_acc: 0.8367\n",
      "Epoch 594/700\n",
      "193/193 [==============================] - 0s 70us/step - loss: 0.3855 - acc: 0.8394 - val_loss: 0.4131 - val_acc: 0.8367\n",
      "Epoch 595/700\n",
      "193/193 [==============================] - 0s 70us/step - loss: 0.3800 - acc: 0.8601 - val_loss: 0.4136 - val_acc: 0.8367\n",
      "Epoch 596/700\n",
      "193/193 [==============================] - 0s 68us/step - loss: 0.3735 - acc: 0.8497 - val_loss: 0.4138 - val_acc: 0.8367\n",
      "Epoch 597/700\n",
      "193/193 [==============================] - 0s 68us/step - loss: 0.3779 - acc: 0.8549 - val_loss: 0.4151 - val_acc: 0.8367\n",
      "Epoch 598/700\n",
      "193/193 [==============================] - 0s 66us/step - loss: 0.3758 - acc: 0.8497 - val_loss: 0.4156 - val_acc: 0.8367\n",
      "Epoch 599/700\n",
      "193/193 [==============================] - 0s 74us/step - loss: 0.3789 - acc: 0.8549 - val_loss: 0.4140 - val_acc: 0.8367\n",
      "Epoch 600/700\n",
      "193/193 [==============================] - 0s 65us/step - loss: 0.3823 - acc: 0.8549 - val_loss: 0.4125 - val_acc: 0.8367\n",
      "Epoch 601/700\n"
     ]
    },
    {
     "name": "stdout",
     "output_type": "stream",
     "text": [
      "193/193 [==============================] - 0s 69us/step - loss: 0.3697 - acc: 0.8549 - val_loss: 0.4118 - val_acc: 0.8367\n",
      "Epoch 602/700\n",
      "193/193 [==============================] - 0s 68us/step - loss: 0.3777 - acc: 0.8601 - val_loss: 0.4119 - val_acc: 0.8367\n",
      "Epoch 603/700\n",
      "193/193 [==============================] - 0s 71us/step - loss: 0.3821 - acc: 0.8549 - val_loss: 0.4103 - val_acc: 0.8367\n",
      "Epoch 604/700\n",
      "193/193 [==============================] - 0s 75us/step - loss: 0.3669 - acc: 0.8549 - val_loss: 0.4089 - val_acc: 0.8367\n",
      "Epoch 605/700\n",
      "193/193 [==============================] - 0s 71us/step - loss: 0.3917 - acc: 0.8549 - val_loss: 0.4084 - val_acc: 0.8367\n",
      "Epoch 606/700\n",
      "193/193 [==============================] - 0s 73us/step - loss: 0.3707 - acc: 0.8601 - val_loss: 0.4087 - val_acc: 0.8367\n",
      "Epoch 607/700\n",
      "193/193 [==============================] - 0s 70us/step - loss: 0.3773 - acc: 0.8601 - val_loss: 0.4106 - val_acc: 0.8367\n",
      "Epoch 608/700\n",
      "193/193 [==============================] - 0s 72us/step - loss: 0.3733 - acc: 0.8497 - val_loss: 0.4119 - val_acc: 0.8367\n",
      "Epoch 609/700\n",
      "193/193 [==============================] - 0s 71us/step - loss: 0.3864 - acc: 0.8497 - val_loss: 0.4133 - val_acc: 0.8367\n",
      "Epoch 610/700\n",
      "193/193 [==============================] - 0s 71us/step - loss: 0.3778 - acc: 0.8549 - val_loss: 0.4168 - val_acc: 0.8367\n",
      "Epoch 611/700\n",
      "193/193 [==============================] - 0s 72us/step - loss: 0.3819 - acc: 0.8497 - val_loss: 0.4181 - val_acc: 0.8367\n",
      "Epoch 612/700\n",
      "193/193 [==============================] - 0s 70us/step - loss: 0.3687 - acc: 0.8601 - val_loss: 0.4164 - val_acc: 0.8367\n",
      "Epoch 613/700\n",
      "193/193 [==============================] - 0s 75us/step - loss: 0.3847 - acc: 0.8446 - val_loss: 0.4149 - val_acc: 0.8367\n",
      "Epoch 614/700\n",
      "193/193 [==============================] - 0s 75us/step - loss: 0.3794 - acc: 0.8549 - val_loss: 0.4121 - val_acc: 0.8367\n",
      "Epoch 615/700\n",
      "193/193 [==============================] - 0s 75us/step - loss: 0.3689 - acc: 0.8705 - val_loss: 0.4091 - val_acc: 0.8367\n",
      "Epoch 616/700\n",
      "193/193 [==============================] - 0s 74us/step - loss: 0.3706 - acc: 0.8549 - val_loss: 0.4072 - val_acc: 0.8367\n",
      "Epoch 617/700\n",
      "193/193 [==============================] - 0s 69us/step - loss: 0.3798 - acc: 0.8653 - val_loss: 0.4056 - val_acc: 0.8367\n",
      "Epoch 618/700\n",
      "193/193 [==============================] - 0s 72us/step - loss: 0.3793 - acc: 0.8549 - val_loss: 0.4050 - val_acc: 0.8367\n",
      "Epoch 619/700\n",
      "193/193 [==============================] - 0s 71us/step - loss: 0.3814 - acc: 0.8549 - val_loss: 0.4061 - val_acc: 0.8367\n",
      "Epoch 620/700\n",
      "193/193 [==============================] - 0s 72us/step - loss: 0.3772 - acc: 0.8549 - val_loss: 0.4068 - val_acc: 0.8367\n",
      "Epoch 621/700\n",
      "193/193 [==============================] - 0s 67us/step - loss: 0.3705 - acc: 0.8549 - val_loss: 0.4092 - val_acc: 0.8367\n",
      "Epoch 622/700\n",
      "193/193 [==============================] - 0s 70us/step - loss: 0.3718 - acc: 0.8653 - val_loss: 0.4110 - val_acc: 0.8367\n",
      "Epoch 623/700\n",
      "193/193 [==============================] - 0s 70us/step - loss: 0.3675 - acc: 0.8653 - val_loss: 0.4121 - val_acc: 0.8367\n",
      "Epoch 624/700\n",
      "193/193 [==============================] - 0s 66us/step - loss: 0.3677 - acc: 0.8601 - val_loss: 0.4125 - val_acc: 0.8367\n",
      "Epoch 625/700\n",
      "193/193 [==============================] - 0s 72us/step - loss: 0.3706 - acc: 0.8653 - val_loss: 0.4144 - val_acc: 0.8367\n",
      "Epoch 626/700\n",
      "193/193 [==============================] - 0s 72us/step - loss: 0.3677 - acc: 0.8549 - val_loss: 0.4159 - val_acc: 0.8367\n",
      "Epoch 627/700\n",
      "193/193 [==============================] - 0s 77us/step - loss: 0.3707 - acc: 0.8497 - val_loss: 0.4156 - val_acc: 0.8367\n",
      "Epoch 628/700\n",
      "193/193 [==============================] - 0s 66us/step - loss: 0.3699 - acc: 0.8549 - val_loss: 0.4134 - val_acc: 0.8367\n",
      "Epoch 629/700\n",
      "193/193 [==============================] - 0s 68us/step - loss: 0.3666 - acc: 0.8601 - val_loss: 0.4129 - val_acc: 0.8367\n",
      "Epoch 630/700\n",
      "193/193 [==============================] - 0s 71us/step - loss: 0.3927 - acc: 0.8549 - val_loss: 0.4106 - val_acc: 0.8367\n",
      "Epoch 631/700\n",
      "193/193 [==============================] - 0s 69us/step - loss: 0.3723 - acc: 0.8549 - val_loss: 0.4095 - val_acc: 0.8367\n",
      "Epoch 632/700\n",
      "193/193 [==============================] - 0s 68us/step - loss: 0.3710 - acc: 0.8601 - val_loss: 0.4080 - val_acc: 0.8367\n",
      "Epoch 633/700\n",
      "193/193 [==============================] - 0s 75us/step - loss: 0.4005 - acc: 0.8342 - val_loss: 0.4069 - val_acc: 0.8367\n",
      "Epoch 634/700\n",
      "193/193 [==============================] - 0s 72us/step - loss: 0.3699 - acc: 0.8601 - val_loss: 0.4062 - val_acc: 0.8367\n",
      "Epoch 635/700\n",
      "193/193 [==============================] - 0s 68us/step - loss: 0.3855 - acc: 0.8549 - val_loss: 0.4070 - val_acc: 0.8367\n",
      "Epoch 636/700\n",
      "193/193 [==============================] - 0s 69us/step - loss: 0.3721 - acc: 0.8549 - val_loss: 0.4076 - val_acc: 0.8367\n",
      "Epoch 637/700\n",
      "193/193 [==============================] - 0s 71us/step - loss: 0.3648 - acc: 0.8653 - val_loss: 0.4089 - val_acc: 0.8367\n",
      "Epoch 638/700\n",
      "193/193 [==============================] - 0s 67us/step - loss: 0.3748 - acc: 0.8497 - val_loss: 0.4101 - val_acc: 0.8367\n",
      "Epoch 639/700\n",
      "193/193 [==============================] - 0s 69us/step - loss: 0.3689 - acc: 0.8705 - val_loss: 0.4111 - val_acc: 0.8367\n",
      "Epoch 640/700\n",
      "193/193 [==============================] - 0s 69us/step - loss: 0.3708 - acc: 0.8601 - val_loss: 0.4138 - val_acc: 0.8367\n",
      "Epoch 641/700\n",
      "193/193 [==============================] - 0s 73us/step - loss: 0.3687 - acc: 0.8446 - val_loss: 0.4164 - val_acc: 0.8367\n",
      "Epoch 642/700\n",
      "193/193 [==============================] - 0s 73us/step - loss: 0.3764 - acc: 0.8497 - val_loss: 0.4189 - val_acc: 0.8367\n",
      "Epoch 643/700\n",
      "193/193 [==============================] - 0s 70us/step - loss: 0.3771 - acc: 0.8446 - val_loss: 0.4189 - val_acc: 0.8367\n",
      "Epoch 644/700\n",
      "193/193 [==============================] - 0s 75us/step - loss: 0.3616 - acc: 0.8601 - val_loss: 0.4164 - val_acc: 0.8367\n",
      "Epoch 645/700\n",
      "193/193 [==============================] - 0s 69us/step - loss: 0.3668 - acc: 0.8446 - val_loss: 0.4141 - val_acc: 0.8367\n",
      "Epoch 646/700\n",
      "193/193 [==============================] - 0s 64us/step - loss: 0.3750 - acc: 0.8342 - val_loss: 0.4136 - val_acc: 0.8367\n",
      "Epoch 647/700\n",
      "193/193 [==============================] - 0s 72us/step - loss: 0.3666 - acc: 0.8549 - val_loss: 0.4105 - val_acc: 0.8367\n",
      "Epoch 648/700\n",
      "193/193 [==============================] - 0s 68us/step - loss: 0.3780 - acc: 0.8549 - val_loss: 0.4084 - val_acc: 0.8367\n",
      "Epoch 649/700\n",
      "193/193 [==============================] - 0s 68us/step - loss: 0.3847 - acc: 0.8549 - val_loss: 0.4087 - val_acc: 0.8367\n",
      "Epoch 650/700\n",
      "193/193 [==============================] - 0s 72us/step - loss: 0.3901 - acc: 0.8549 - val_loss: 0.4103 - val_acc: 0.8367\n",
      "Epoch 651/700\n",
      "193/193 [==============================] - 0s 69us/step - loss: 0.3619 - acc: 0.8549 - val_loss: 0.4119 - val_acc: 0.8367\n",
      "Epoch 652/700\n",
      "193/193 [==============================] - 0s 69us/step - loss: 0.3568 - acc: 0.8653 - val_loss: 0.4106 - val_acc: 0.8367\n",
      "Epoch 653/700\n",
      "193/193 [==============================] - 0s 71us/step - loss: 0.3696 - acc: 0.8497 - val_loss: 0.4083 - val_acc: 0.8367\n",
      "Epoch 654/700\n",
      "193/193 [==============================] - 0s 66us/step - loss: 0.3712 - acc: 0.8601 - val_loss: 0.4069 - val_acc: 0.8367\n",
      "Epoch 655/700\n",
      "193/193 [==============================] - 0s 71us/step - loss: 0.3851 - acc: 0.8601 - val_loss: 0.4061 - val_acc: 0.8367\n",
      "Epoch 656/700\n",
      "193/193 [==============================] - 0s 70us/step - loss: 0.3643 - acc: 0.8549 - val_loss: 0.4072 - val_acc: 0.8367\n",
      "Epoch 657/700\n",
      "193/193 [==============================] - 0s 69us/step - loss: 0.3660 - acc: 0.8705 - val_loss: 0.4088 - val_acc: 0.8367\n",
      "Epoch 658/700\n",
      "193/193 [==============================] - 0s 69us/step - loss: 0.3655 - acc: 0.8601 - val_loss: 0.4102 - val_acc: 0.8367\n",
      "Epoch 659/700\n",
      "193/193 [==============================] - 0s 64us/step - loss: 0.3646 - acc: 0.8653 - val_loss: 0.4095 - val_acc: 0.8367\n",
      "Epoch 660/700\n",
      "193/193 [==============================] - 0s 70us/step - loss: 0.3617 - acc: 0.8653 - val_loss: 0.4091 - val_acc: 0.8367\n",
      "Epoch 661/700\n"
     ]
    },
    {
     "name": "stdout",
     "output_type": "stream",
     "text": [
      "193/193 [==============================] - 0s 65us/step - loss: 0.3760 - acc: 0.8653 - val_loss: 0.4074 - val_acc: 0.8367\n",
      "Epoch 662/700\n",
      "193/193 [==============================] - 0s 72us/step - loss: 0.3838 - acc: 0.8705 - val_loss: 0.4059 - val_acc: 0.8367\n",
      "Epoch 663/700\n",
      "193/193 [==============================] - 0s 71us/step - loss: 0.3684 - acc: 0.8601 - val_loss: 0.4054 - val_acc: 0.8367\n",
      "Epoch 664/700\n",
      "193/193 [==============================] - 0s 72us/step - loss: 0.3710 - acc: 0.8705 - val_loss: 0.4070 - val_acc: 0.8367\n",
      "Epoch 665/700\n",
      "193/193 [==============================] - 0s 69us/step - loss: 0.3619 - acc: 0.8705 - val_loss: 0.4093 - val_acc: 0.8367\n",
      "Epoch 666/700\n",
      "193/193 [==============================] - 0s 64us/step - loss: 0.3610 - acc: 0.8601 - val_loss: 0.4104 - val_acc: 0.8367\n",
      "Epoch 667/700\n",
      "193/193 [==============================] - 0s 70us/step - loss: 0.3631 - acc: 0.8497 - val_loss: 0.4106 - val_acc: 0.8367\n",
      "Epoch 668/700\n",
      "193/193 [==============================] - 0s 71us/step - loss: 0.3485 - acc: 0.8653 - val_loss: 0.4103 - val_acc: 0.8367\n",
      "Epoch 669/700\n",
      "193/193 [==============================] - 0s 73us/step - loss: 0.3695 - acc: 0.8394 - val_loss: 0.4089 - val_acc: 0.8367\n",
      "Epoch 670/700\n",
      "193/193 [==============================] - 0s 71us/step - loss: 0.3659 - acc: 0.8549 - val_loss: 0.4078 - val_acc: 0.8367\n",
      "Epoch 671/700\n",
      "193/193 [==============================] - 0s 72us/step - loss: 0.3596 - acc: 0.8756 - val_loss: 0.4090 - val_acc: 0.8367\n",
      "Epoch 672/700\n",
      "193/193 [==============================] - 0s 65us/step - loss: 0.3633 - acc: 0.8653 - val_loss: 0.4103 - val_acc: 0.8367\n",
      "Epoch 673/700\n",
      "193/193 [==============================] - 0s 70us/step - loss: 0.3603 - acc: 0.8497 - val_loss: 0.4111 - val_acc: 0.8367\n",
      "Epoch 674/700\n",
      "193/193 [==============================] - 0s 66us/step - loss: 0.3617 - acc: 0.8601 - val_loss: 0.4109 - val_acc: 0.8367\n",
      "Epoch 675/700\n",
      "193/193 [==============================] - 0s 70us/step - loss: 0.3601 - acc: 0.8549 - val_loss: 0.4088 - val_acc: 0.8367\n",
      "Epoch 676/700\n",
      "193/193 [==============================] - 0s 71us/step - loss: 0.3556 - acc: 0.8549 - val_loss: 0.4070 - val_acc: 0.8367\n",
      "Epoch 677/700\n",
      "193/193 [==============================] - 0s 65us/step - loss: 0.3577 - acc: 0.8601 - val_loss: 0.4053 - val_acc: 0.8367\n",
      "Epoch 678/700\n",
      "193/193 [==============================] - 0s 75us/step - loss: 0.3600 - acc: 0.8705 - val_loss: 0.4037 - val_acc: 0.8367\n",
      "Epoch 679/700\n",
      "193/193 [==============================] - 0s 67us/step - loss: 0.3631 - acc: 0.8808 - val_loss: 0.4034 - val_acc: 0.8367\n",
      "Epoch 680/700\n",
      "193/193 [==============================] - 0s 70us/step - loss: 0.3569 - acc: 0.8756 - val_loss: 0.4041 - val_acc: 0.8367\n",
      "Epoch 681/700\n",
      "193/193 [==============================] - 0s 68us/step - loss: 0.3706 - acc: 0.8705 - val_loss: 0.4061 - val_acc: 0.8367\n",
      "Epoch 682/700\n",
      "193/193 [==============================] - 0s 69us/step - loss: 0.3728 - acc: 0.8601 - val_loss: 0.4076 - val_acc: 0.8367\n",
      "Epoch 683/700\n",
      "193/193 [==============================] - 0s 68us/step - loss: 0.3739 - acc: 0.8446 - val_loss: 0.4107 - val_acc: 0.8367\n",
      "Epoch 684/700\n",
      "193/193 [==============================] - 0s 70us/step - loss: 0.3585 - acc: 0.8601 - val_loss: 0.4121 - val_acc: 0.8367\n",
      "Epoch 685/700\n",
      "193/193 [==============================] - 0s 68us/step - loss: 0.3542 - acc: 0.8601 - val_loss: 0.4123 - val_acc: 0.8367\n",
      "Epoch 686/700\n",
      "193/193 [==============================] - 0s 67us/step - loss: 0.3638 - acc: 0.8497 - val_loss: 0.4101 - val_acc: 0.8367\n",
      "Epoch 687/700\n",
      "193/193 [==============================] - 0s 68us/step - loss: 0.3579 - acc: 0.8497 - val_loss: 0.4070 - val_acc: 0.8367\n",
      "Epoch 688/700\n",
      "193/193 [==============================] - 0s 76us/step - loss: 0.3652 - acc: 0.8653 - val_loss: 0.4047 - val_acc: 0.8367\n",
      "Epoch 689/700\n",
      "193/193 [==============================] - 0s 75us/step - loss: 0.3504 - acc: 0.8705 - val_loss: 0.4028 - val_acc: 0.8163\n",
      "Epoch 690/700\n",
      "193/193 [==============================] - 0s 69us/step - loss: 0.3599 - acc: 0.8601 - val_loss: 0.4016 - val_acc: 0.8163\n",
      "Epoch 691/700\n",
      "193/193 [==============================] - 0s 75us/step - loss: 0.3543 - acc: 0.8705 - val_loss: 0.4037 - val_acc: 0.8163\n",
      "Epoch 692/700\n",
      "193/193 [==============================] - 0s 74us/step - loss: 0.3747 - acc: 0.8601 - val_loss: 0.4055 - val_acc: 0.8367\n",
      "Epoch 693/700\n",
      "193/193 [==============================] - 0s 79us/step - loss: 0.3751 - acc: 0.8497 - val_loss: 0.4088 - val_acc: 0.8367\n",
      "Epoch 694/700\n",
      "193/193 [==============================] - 0s 75us/step - loss: 0.3639 - acc: 0.8446 - val_loss: 0.4104 - val_acc: 0.8367\n",
      "Epoch 695/700\n",
      "193/193 [==============================] - 0s 70us/step - loss: 0.3650 - acc: 0.8549 - val_loss: 0.4115 - val_acc: 0.8367\n",
      "Epoch 696/700\n",
      "193/193 [==============================] - 0s 70us/step - loss: 0.3613 - acc: 0.8497 - val_loss: 0.4097 - val_acc: 0.8367\n",
      "Epoch 697/700\n",
      "193/193 [==============================] - 0s 68us/step - loss: 0.3518 - acc: 0.8601 - val_loss: 0.4068 - val_acc: 0.8367\n",
      "Epoch 698/700\n",
      "193/193 [==============================] - 0s 69us/step - loss: 0.3591 - acc: 0.8653 - val_loss: 0.4043 - val_acc: 0.8163\n",
      "Epoch 699/700\n",
      "193/193 [==============================] - 0s 71us/step - loss: 0.3563 - acc: 0.8549 - val_loss: 0.4050 - val_acc: 0.8163\n",
      "Epoch 700/700\n",
      "193/193 [==============================] - 0s 70us/step - loss: 0.3497 - acc: 0.8756 - val_loss: 0.4043 - val_acc: 0.8163\n",
      "Accuracy: 0.8756476832177355\n"
     ]
    }
   ],
   "source": [
    "model = build_model(lr=0.0005, decay=0, initializer_val = 0.03, dp=0.005)\n",
    "def fit_model(epochs=700):\n",
    "    return model.fit(train_data, train_labels, epochs=epochs, batch_size=train_data.shape[0] // 2, validation_split=0.2, verbose=1)\n",
    "history = fit_model()\n",
    "print(\"Accuracy: \" + str(history.history[\"acc\"][-1]))"
   ]
  },
  {
   "cell_type": "code",
   "execution_count": 94,
   "metadata": {},
   "outputs": [
    {
     "data": {
      "image/png": "[encoded data removed]",
      "text/plain": [
       "<Figure size 432x288 with 1 Axes>"
      ]
     },
     "metadata": {
      "needs_background": "light"
     },
     "output_type": "display_data"
    },
    {
     "data": {
      "image/png": "[encoded data removed]",
      "text/plain": [
       "<Figure size 432x288 with 1 Axes>"
      ]
     },
     "metadata": {
      "needs_background": "light"
     },
     "output_type": "display_data"
    }
   ],
   "source": [
    "# Plot loss\n",
    "plt.title(\"Loss\")\n",
    "plt.plot(history.history[\"loss\"])\n",
    "plt.plot(history.history[\"val_loss\"])\n",
    "plt.show()\n",
    "\n",
    "# Plot accuracy\n",
    "plt.title(\"Accuracy\")\n",
    "plt.plot(history.history[\"acc\"])\n",
    "plt.plot(history.history[\"val_acc\"])\n",
    "plt.show()"
   ]
  },
  {
   "cell_type": "code",
   "execution_count": 95,
   "metadata": {},
   "outputs": [
    {
     "name": "stdout",
     "output_type": "stream",
     "text": [
      "61/61 [==============================] - 0s 116us/step\n"
     ]
    },
    {
     "data": {
      "text/plain": [
       "[0.3797447280805619, 0.8688524453366389]"
      ]
     },
     "execution_count": 95,
     "metadata": {},
     "output_type": "execute_result"
    }
   ],
   "source": [
    "model.evaluate(test_data, test_labels)"
   ]
  },
  {
   "cell_type": "code",
   "execution_count": null,
   "metadata": {},
   "outputs": [],
   "source": []
  }
 ],
 "metadata": {
  "kernelspec": {
   "display_name": "Python 3",
   "language": "python",
   "name": "python3"
  },
  "language_info": {
   "codemirror_mode": {
    "name": "ipython",
    "version": 3
   },
   "file_extension": ".py",
   "mimetype": "text/x-python",
   "name": "python",
   "nbconvert_exporter": "python",
   "pygments_lexer": "ipython3",
   "version": "3.6.7"
  }
 },
 "nbformat": 4,
 "nbformat_minor": 2
}
